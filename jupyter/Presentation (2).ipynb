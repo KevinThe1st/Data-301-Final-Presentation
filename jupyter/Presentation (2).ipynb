{
 "cells": [
  {
   "cell_type": "markdown",
   "metadata": {},
   "source": [
    "# Genre Prediction Presentation\n",
    "**By Josh Abel and Kevin Label**"
   ]
  },
  {
   "cell_type": "markdown",
   "metadata": {},
   "source": [
    "***Note, our model may predict our names are a rap song since they rhyme.***"
   ]
  },
  {
   "cell_type": "markdown",
   "metadata": {},
   "source": [
    "##  Introduction"
   ]
  },
  {
   "cell_type": "markdown",
   "metadata": {},
   "source": [
    "When we began brainstorming ideas for a data science project, we tried to think of topics that related to both of us. We thought about music, being that we both grew up learning various instruments."
   ]
  },
  {
   "cell_type": "markdown",
   "metadata": {},
   "source": [
    "![](josh.png) \n",
    "<img src=\"kevin.png\" width=\"15%\">"
   ]
  },
  {
   "cell_type": "markdown",
   "metadata": {},
   "source": [
    "(We couldn't find an old picture of Kevin, so we let him borrow mine.)"
   ]
  },
  {
   "cell_type": "markdown",
   "metadata": {},
   "source": [
    "From this we thought of extracting Billboard top 100 data and doing something interesting with it. We began asking ourselves different questions that had to do with the analyization of music. We came to the question, what really defines a genre. It may seem like common sense to listen to a song and to be able to classify its genre. However, what measurable features allow our brains to recognize the genre of the song?"
   ]
  },
  {
   "cell_type": "markdown",
   "metadata": {},
   "source": [
    "This set us on our journey of searching for obtainable information about songs, that way we could predict a song's genre."
   ]
  },
  {
   "cell_type": "markdown",
   "metadata": {},
   "source": [
    "From our research we came across an article on \"towardsdatascience.com\" by Rosebud Anwuri, who had previously tried to distinguish between old and new music. From this project, she released open source data which she discovered and came up with. We decided to take her data and expand on it as we wanted to explore more variables."
   ]
  },
  {
   "cell_type": "markdown",
   "metadata": {},
   "source": [
    "Luckily she used a Spotify API to gather data, and provided unique keys for each song. From this we were able to extract from the API ourselves and discover more data on each song."
   ]
  },
  {
   "cell_type": "markdown",
   "metadata": {},
   "source": [
    "The following is a small segment of her data:"
   ]
  },
  {
   "cell_type": "code",
   "execution_count": 1,
   "metadata": {},
   "outputs": [
    {
     "data": {
      "text/html": [
       "<div>\n",
       "<style scoped>\n",
       "    .dataframe tbody tr th:only-of-type {\n",
       "        vertical-align: middle;\n",
       "    }\n",
       "\n",
       "    .dataframe tbody tr th {\n",
       "        vertical-align: top;\n",
       "    }\n",
       "\n",
       "    .dataframe thead th {\n",
       "        text-align: right;\n",
       "    }\n",
       "</style>\n",
       "<table border=\"1\" class=\"dataframe\">\n",
       "  <thead>\n",
       "    <tr style=\"text-align: right;\">\n",
       "      <th></th>\n",
       "      <th>lyrics</th>\n",
       "      <th>num_syllables</th>\n",
       "      <th>pos</th>\n",
       "      <th>year</th>\n",
       "      <th>fog_index</th>\n",
       "      <th>flesch_index</th>\n",
       "      <th>num_words</th>\n",
       "      <th>num_lines</th>\n",
       "      <th>title</th>\n",
       "      <th>f_k_grade</th>\n",
       "      <th>...</th>\n",
       "      <th>tempo</th>\n",
       "      <th>duration_ms</th>\n",
       "      <th>time_signature</th>\n",
       "      <th>uri</th>\n",
       "      <th>analysis_url</th>\n",
       "      <th>artist_with_features</th>\n",
       "      <th>year_bin</th>\n",
       "      <th>image</th>\n",
       "      <th>cluster</th>\n",
       "      <th>Gender</th>\n",
       "    </tr>\n",
       "  </thead>\n",
       "  <tbody>\n",
       "    <tr>\n",
       "      <th>0</th>\n",
       "      <td>Mona Lisa, Mona Lisa, men have named you\\nYou'...</td>\n",
       "      <td>189.0</td>\n",
       "      <td>0.199</td>\n",
       "      <td>1950</td>\n",
       "      <td>5.2</td>\n",
       "      <td>88.74</td>\n",
       "      <td>145</td>\n",
       "      <td>17</td>\n",
       "      <td>Mona Lisa</td>\n",
       "      <td>2.9</td>\n",
       "      <td>...</td>\n",
       "      <td>86.198</td>\n",
       "      <td>207573.0</td>\n",
       "      <td>3</td>\n",
       "      <td>spotify:track:3k5ycyXX5qsCjLd7R2vphp</td>\n",
       "      <td>https://api.spotify.com/v1/audio-analysis/3k5y...</td>\n",
       "      <td>NaN</td>\n",
       "      <td>50s</td>\n",
       "      <td>https://i.scdn.co/image/a4c0918f13b67aa8d9f4ea...</td>\n",
       "      <td>String Lover</td>\n",
       "      <td>male</td>\n",
       "    </tr>\n",
       "    <tr>\n",
       "      <th>1</th>\n",
       "      <td>I wanna be Loved\\nBy Andrews Sisters\\n\\nOooo-o...</td>\n",
       "      <td>270.9</td>\n",
       "      <td>0.224</td>\n",
       "      <td>1950</td>\n",
       "      <td>4.4</td>\n",
       "      <td>82.31</td>\n",
       "      <td>189</td>\n",
       "      <td>31</td>\n",
       "      <td>I Wanna Be Loved</td>\n",
       "      <td>3.3</td>\n",
       "      <td>...</td>\n",
       "      <td>170.869</td>\n",
       "      <td>198027.0</td>\n",
       "      <td>5</td>\n",
       "      <td>spotify:track:4UY81WrDU3jTROGaKuz4uZ</td>\n",
       "      <td>https://api.spotify.com/v1/audio-analysis/4UY8...</td>\n",
       "      <td>Gordon Jenkins</td>\n",
       "      <td>50s</td>\n",
       "      <td>https://i.scdn.co/image/42e4dc3ab9b190056a1ca1...</td>\n",
       "      <td>String Lover</td>\n",
       "      <td>Group</td>\n",
       "    </tr>\n",
       "    <tr>\n",
       "      <th>2</th>\n",
       "      <td>I was dancing with my darling to the Tennessee...</td>\n",
       "      <td>174.6</td>\n",
       "      <td>0.351</td>\n",
       "      <td>1950</td>\n",
       "      <td>5.2</td>\n",
       "      <td>88.74</td>\n",
       "      <td>138</td>\n",
       "      <td>16</td>\n",
       "      <td>Tennessee Waltz</td>\n",
       "      <td>2.9</td>\n",
       "      <td>...</td>\n",
       "      <td>86.335</td>\n",
       "      <td>182733.0</td>\n",
       "      <td>3</td>\n",
       "      <td>spotify:track:6DKt9vMnMN0HmlnK3EAHRQ</td>\n",
       "      <td>https://api.spotify.com/v1/audio-analysis/6DKt...</td>\n",
       "      <td>NaN</td>\n",
       "      <td>50s</td>\n",
       "      <td>https://i.scdn.co/image/353b05113b1a140d64d83d...</td>\n",
       "      <td>String Lover</td>\n",
       "      <td>female</td>\n",
       "    </tr>\n",
       "    <tr>\n",
       "      <th>3</th>\n",
       "      <td>Each time I hold someone new\\nMy arms grow col...</td>\n",
       "      <td>135.9</td>\n",
       "      <td>0.231</td>\n",
       "      <td>1950</td>\n",
       "      <td>4.4</td>\n",
       "      <td>99.23</td>\n",
       "      <td>117</td>\n",
       "      <td>18</td>\n",
       "      <td>I'll Never Be Free</td>\n",
       "      <td>0.9</td>\n",
       "      <td>...</td>\n",
       "      <td>82.184</td>\n",
       "      <td>158000.0</td>\n",
       "      <td>3</td>\n",
       "      <td>spotify:track:0KnD456yC5JuweN932Ems3</td>\n",
       "      <td>https://api.spotify.com/v1/audio-analysis/0KnD...</td>\n",
       "      <td>Kay Starr</td>\n",
       "      <td>50s</td>\n",
       "      <td>https://i.scdn.co/image/4bd427bb9181914d0fa448...</td>\n",
       "      <td>String Lover</td>\n",
       "      <td>male</td>\n",
       "    </tr>\n",
       "    <tr>\n",
       "      <th>4</th>\n",
       "      <td>Unfortunately, we are not licensed to display ...</td>\n",
       "      <td>46.8</td>\n",
       "      <td>0.079</td>\n",
       "      <td>1950</td>\n",
       "      <td>6.0</td>\n",
       "      <td>69.79</td>\n",
       "      <td>32</td>\n",
       "      <td>3</td>\n",
       "      <td>All My Love</td>\n",
       "      <td>6.0</td>\n",
       "      <td>...</td>\n",
       "      <td>123.314</td>\n",
       "      <td>190933.0</td>\n",
       "      <td>4</td>\n",
       "      <td>spotify:track:05sXHTLqIpwywbpui1JT4o</td>\n",
       "      <td>https://api.spotify.com/v1/audio-analysis/05sX...</td>\n",
       "      <td>NaN</td>\n",
       "      <td>50s</td>\n",
       "      <td>https://i.scdn.co/image/353b05113b1a140d64d83d...</td>\n",
       "      <td>String Lover</td>\n",
       "      <td>female</td>\n",
       "    </tr>\n",
       "  </tbody>\n",
       "</table>\n",
       "<p>5 rows × 37 columns</p>\n",
       "</div>"
      ],
      "text/plain": [
       "                                              lyrics  num_syllables    pos  \\\n",
       "0  Mona Lisa, Mona Lisa, men have named you\\nYou'...          189.0  0.199   \n",
       "1  I wanna be Loved\\nBy Andrews Sisters\\n\\nOooo-o...          270.9  0.224   \n",
       "2  I was dancing with my darling to the Tennessee...          174.6  0.351   \n",
       "3  Each time I hold someone new\\nMy arms grow col...          135.9  0.231   \n",
       "4  Unfortunately, we are not licensed to display ...           46.8  0.079   \n",
       "\n",
       "   year  fog_index  flesch_index  num_words  num_lines               title  \\\n",
       "0  1950        5.2         88.74        145         17           Mona Lisa   \n",
       "1  1950        4.4         82.31        189         31    I Wanna Be Loved   \n",
       "2  1950        5.2         88.74        138         16     Tennessee Waltz   \n",
       "3  1950        4.4         99.23        117         18  I'll Never Be Free   \n",
       "4  1950        6.0         69.79         32          3         All My Love   \n",
       "\n",
       "   f_k_grade   ...      tempo  duration_ms  time_signature  \\\n",
       "0        2.9   ...     86.198     207573.0               3   \n",
       "1        3.3   ...    170.869     198027.0               5   \n",
       "2        2.9   ...     86.335     182733.0               3   \n",
       "3        0.9   ...     82.184     158000.0               3   \n",
       "4        6.0   ...    123.314     190933.0               4   \n",
       "\n",
       "                                    uri  \\\n",
       "0  spotify:track:3k5ycyXX5qsCjLd7R2vphp   \n",
       "1  spotify:track:4UY81WrDU3jTROGaKuz4uZ   \n",
       "2  spotify:track:6DKt9vMnMN0HmlnK3EAHRQ   \n",
       "3  spotify:track:0KnD456yC5JuweN932Ems3   \n",
       "4  spotify:track:05sXHTLqIpwywbpui1JT4o   \n",
       "\n",
       "                                        analysis_url  artist_with_features  \\\n",
       "0  https://api.spotify.com/v1/audio-analysis/3k5y...                   NaN   \n",
       "1  https://api.spotify.com/v1/audio-analysis/4UY8...        Gordon Jenkins   \n",
       "2  https://api.spotify.com/v1/audio-analysis/6DKt...                   NaN   \n",
       "3  https://api.spotify.com/v1/audio-analysis/0KnD...             Kay Starr   \n",
       "4  https://api.spotify.com/v1/audio-analysis/05sX...                   NaN   \n",
       "\n",
       "  year_bin                                              image       cluster  \\\n",
       "0      50s  https://i.scdn.co/image/a4c0918f13b67aa8d9f4ea...  String Lover   \n",
       "1      50s  https://i.scdn.co/image/42e4dc3ab9b190056a1ca1...  String Lover   \n",
       "2      50s  https://i.scdn.co/image/353b05113b1a140d64d83d...  String Lover   \n",
       "3      50s  https://i.scdn.co/image/4bd427bb9181914d0fa448...  String Lover   \n",
       "4      50s  https://i.scdn.co/image/353b05113b1a140d64d83d...  String Lover   \n",
       "\n",
       "   Gender  \n",
       "0    male  \n",
       "1   Group  \n",
       "2  female  \n",
       "3    male  \n",
       "4  female  \n",
       "\n",
       "[5 rows x 37 columns]"
      ]
     },
     "execution_count": 1,
     "metadata": {},
     "output_type": "execute_result"
    }
   ],
   "source": [
    "import pandas as pd\n",
    "Rosebud_data = pd.read_csv(\"https://raw.githubusercontent.com/RosebudAnwuri/TheArtandScienceofData/master/The%20Making%20of%20Great%20Music/data/music_df.csv\")\n",
    "Rosebud_data.head()"
   ]
  },
  {
   "cell_type": "markdown",
   "metadata": {},
   "source": [
    "Some of these features were quite useful, such as danceability (a measure from the Spotify API), while other were not such as the gender of the artist."
   ]
  },
  {
   "cell_type": "markdown",
   "metadata": {},
   "source": [
    "We first wanted to see the proportions of genres that made it to the top 100 in the years 1950 to 2015."
   ]
  },
  {
   "cell_type": "markdown",
   "metadata": {},
   "source": [
    "<img src=\"Img1.png\" width=\"65%\">"
   ]
  },
  {
   "cell_type": "markdown",
   "metadata": {},
   "source": [
    "From this we saw that rock took up almost half of all top 100 songs over those years. But we wondered how this could be and so we decided to look how many songs from each decade made it into the top 100."
   ]
  },
  {
   "cell_type": "markdown",
   "metadata": {},
   "source": [
    "<img src=\"Img2.png\" width=\"55%\">"
   ]
  },
  {
   "cell_type": "markdown",
   "metadata": {},
   "source": [
    "Looking at this it becomes apparent that over the years, more songs have quickly come and gone in the top 100. It is also worth noting that the decade with the most songs that reached the top 100 was the 80s, in which rock was most prevelant."
   ]
  },
  {
   "cell_type": "markdown",
   "metadata": {},
   "source": [
    "<img src=\"Slash.png\" width=\"50%\">"
   ]
  },
  {
   "cell_type": "markdown",
   "metadata": {},
   "source": [
    "So then we wanted to take these two ideas of year and propotion of genres and merge them together to see how they flow with each other."
   ]
  },
  {
   "cell_type": "markdown",
   "metadata": {},
   "source": [
    "<img src=\"Img3.png\" width=\"65%\">"
   ]
  },
  {
   "cell_type": "markdown",
   "metadata": {},
   "source": [
    "From this graph we could see how popular a genre was per decade. It is most prevalent in rock and pop."
   ]
  },
  {
   "cell_type": "markdown",
   "metadata": {},
   "source": [
    "From this, it is clear that categorical variable \"decade\" had an effect on the genre. Next, we wanted to be able to visualize whether quantitative variables can show differences."
   ]
  },
  {
   "cell_type": "markdown",
   "metadata": {},
   "source": [
    "For example, we can see that by genre, the number of repeated lines in a song's lyrics change dramatically."
   ]
  },
  {
   "cell_type": "markdown",
   "metadata": {},
   "source": [
    "<img src=\"Img4.png\" width=\"55%\">"
   ]
  },
  {
   "cell_type": "markdown",
   "metadata": {},
   "source": [
    "Similarly we found stark contrasts between genres with regrads to features such as danceability and acousticness. However, it is noticible in a feature such as the number of key changes in a song. Note, it is easy to see these differneces in songs that are very different such as jazz and pop vs. those that are similar such as pop and hip-hop."
   ]
  },
  {
   "cell_type": "markdown",
   "metadata": {},
   "source": [
    "<img src=\"Img5.png\" width=\"75%\">"
   ]
  },
  {
   "cell_type": "code",
   "execution_count": null,
   "metadata": {},
   "outputs": [],
   "source": []
  },
  {
   "cell_type": "markdown",
   "metadata": {},
   "source": [
    "<img src=\"Img6.png\" width=\"75%\">"
   ]
  },
  {
   "cell_type": "code",
   "execution_count": null,
   "metadata": {},
   "outputs": [],
   "source": []
  },
  {
   "cell_type": "markdown",
   "metadata": {},
   "source": [
    "<img src=\"Img7.png\" width=\"75%\">"
   ]
  },
  {
   "cell_type": "markdown",
   "metadata": {},
   "source": [
    "Being that it is hard to see the difference between similar genres such as pop and hip-hop we tried other approaches to find these differences. The way we tried to separate, for example pop and hip-hop, was using a principal componenet analysis. However, it did not help too much to show the difference."
   ]
  },
  {
   "cell_type": "markdown",
   "metadata": {},
   "source": [
    "<img src=\"Img8.png\" width=\"55%\">"
   ]
  },
  {
   "cell_type": "markdown",
   "metadata": {},
   "source": [
    "Now that we know how our variables interact with the genres of songs, we decided to take them to the test and use them to implement a maching learing model."
   ]
  },
  {
   "cell_type": "markdown",
   "metadata": {},
   "source": [
    "Here was our game plan:\n",
    "\n",
    "(1) Train a SVM classifier and a k-nearest neighbors classifier on the ~4000 songs we had.\n",
    "\n",
    "(2) See how the two classifiers perform together, by ensembling them.\n",
    "\n",
    "(3) Choose the best model\n",
    "\n",
    "(4) Since not all the songs in our training data had genres corresponding to them, we predicted these genres and put them back into our data, and trained a new model using them. This is known as regression imputation (this can have draw backs).\n",
    "\n",
    "(5) Scrape the current billboard top 100, and then gather its data from the Spotify API and a lyrics website.\n",
    "\n",
    "(6) From this, we use this new data as a test set and predict the genres of the current top 100."
   ]
  },
  {
   "cell_type": "markdown",
   "metadata": {},
   "source": [
    "<img src=\"Billboard.png\" width=\"70%\">"
   ]
  },
  {
   "cell_type": "markdown",
   "metadata": {},
   "source": [
    "## Suppot Vector Machine Model (SVM)"
   ]
  },
  {
   "cell_type": "markdown",
   "metadata": {},
   "source": [
    "<img src=\"SVM1.png\" width=\"20%\">\n",
    "<img src=\"SVM4.png\" width=\"20%\">\n",
    "<img src=\"SVM3.png\" width=\"20%\">\n",
    "<img src=\"SVM2.png\" width=\"20%\">"
   ]
  },
  {
   "cell_type": "markdown",
   "metadata": {},
   "source": [
    "An SVM tries to separate categories by using some sort of linear object. For more complicated data it may project this data into a higher dimention, such as 2D to 3D, and then draw a plane through this transformed data. (See Above)"
   ]
  },
  {
   "cell_type": "markdown",
   "metadata": {},
   "source": [
    "To create the SVM we experimented with various features, used our intuition from the data exploration, and tried a model with and without a TF-IDF vectorizer on the lyrics of each song. We then used all these features in a PCA and constructed our model. The following is our analysis of optimizing the `min_df` parameter in the TF-IDF vectorizer."
   ]
  },
  {
   "cell_type": "markdown",
   "metadata": {},
   "source": [
    "<img src=\"SVM6.png\" width=\"50%\">"
   ]
  },
  {
   "cell_type": "markdown",
   "metadata": {},
   "source": [
    "## K-Nearest Neighbors Classifier"
   ]
  },
  {
   "cell_type": "markdown",
   "metadata": {},
   "source": [
    "<img src=\"KNN.png\" width=\"40%\">"
   ]
  },
  {
   "cell_type": "markdown",
   "metadata": {},
   "source": [
    "In our K-Nearest Neighbors Classifier, we similary tested features, used a TF-IDF vectorizer on the lyrics, and ran PCA on all the features. In the end we optimized our value of k to be 36-nearest neighbors, looking the f1 scores of classes."
   ]
  },
  {
   "cell_type": "markdown",
   "metadata": {},
   "source": [
    "## Ensembling the Two Models"
   ]
  },
  {
   "cell_type": "markdown",
   "metadata": {},
   "source": [
    "Here we used a voting classifer to combine our two models."
   ]
  },
  {
   "cell_type": "markdown",
   "metadata": {},
   "source": [
    "The voting classier calculates a probility A from class A and a probability B from class B and uses that to construct a \"majority vote\"."
   ]
  },
  {
   "cell_type": "markdown",
   "metadata": {},
   "source": [
    "<img src=\"Ensemble1.png\" width=\"50%\">"
   ]
  },
  {
   "cell_type": "markdown",
   "metadata": {},
   "source": [
    "The above is how our ensembler performed looking at the f1 score for rock. We found that it performed worse than the SVC, so we stuck with this model to make our predictions on the current top 100 songs."
   ]
  },
  {
   "cell_type": "markdown",
   "metadata": {},
   "source": [
    "### Missing predictions"
   ]
  },
  {
   "cell_type": "markdown",
   "metadata": {},
   "source": [
    "First we predicted the genres of the missing genres in our original data set."
   ]
  },
  {
   "cell_type": "markdown",
   "metadata": {},
   "source": [
    "<img src=\"Ensemble2.png\" width=\"50%\">"
   ]
  },
  {
   "cell_type": "markdown",
   "metadata": {},
   "source": [
    "We can see that the first 20 of the prediction on the missing data were rock with a few jazz predictions."
   ]
  },
  {
   "cell_type": "markdown",
   "metadata": {},
   "source": [
    "## Final Prediction on the Current Top 100"
   ]
  },
  {
   "cell_type": "markdown",
   "metadata": {},
   "source": [
    "After webscraping data for the current billboard top 100 songs, getting information from the Spotify API, and retraining our model on all the data, we used this model to predict the current top 100 songs."
   ]
  },
  {
   "cell_type": "markdown",
   "metadata": {},
   "source": [
    "The following shows the individual predictions for each of the top 100."
   ]
  },
  {
   "cell_type": "markdown",
   "metadata": {},
   "source": [
    "<img src=\"current.png\" width=\"60%\">"
   ]
  },
  {
   "cell_type": "markdown",
   "metadata": {},
   "source": [
    "<img src=\"Ens2.png\" width=\"50%\">"
   ]
  },
  {
   "cell_type": "markdown",
   "metadata": {},
   "source": [
    "We can that our model predicted *Whiskey Glasses* by Morgan Wallen correctly, even though country music was a rare genre."
   ]
  },
  {
   "cell_type": "markdown",
   "metadata": {},
   "source": [
    "We can also see that country was a rare top 100 genre from 1950 to 2015."
   ]
  },
  {
   "cell_type": "markdown",
   "metadata": {},
   "source": [
    "<img src=\"final1.png\" width=\"40%\">"
   ]
  },
  {
   "cell_type": "markdown",
   "metadata": {},
   "source": [
    "It may be surprising that our model predicted rock so many more times than it did for pop and hip-hop."
   ]
  },
  {
   "cell_type": "markdown",
   "metadata": {},
   "source": [
    "However, we can see from our earlier analysis that pop and rock are fairly similar and so are pop and hip-hop."
   ]
  },
  {
   "cell_type": "markdown",
   "metadata": {},
   "source": [
    "<img src=\"rockpop.png\" width=\"50%\">"
   ]
  },
  {
   "cell_type": "markdown",
   "metadata": {},
   "source": [
    "Furthermore, it may appear that our model over predicts for rock songs. However, on closer inspecation, it is revealed that a lot of songs nowadays that are classified as pop also have elements of rock in them. Indeed, if we look at some of the biggest pop artists from today, we will see that they are also classified as rock artists. It is also worth noting that our model may slightly over predict because we used regression imputation."
   ]
  },
  {
   "cell_type": "markdown",
   "metadata": {},
   "source": [
    "<img src=\"Pic1.png\" width=\"75%\">"
   ]
  },
  {
   "cell_type": "markdown",
   "metadata": {},
   "source": [
    "<img src=\"Pic2.png\" width=\"75%\">"
   ]
  },
  {
   "cell_type": "markdown",
   "metadata": {},
   "source": [
    "<img src=\"Pic3.png\" width=\"75%\">"
   ]
  },
  {
   "cell_type": "markdown",
   "metadata": {},
   "source": [
    "In conclusion, we found that there is no one feature that distinguishes two genres from eachother. Rather it is culmination of many attributes, such as lyrics, acousticness and how often the flow of the song changes (e.g. number of key changes, number of segments, etc.). Some genres have clear distinctions from one another (e.g. pop and jazz) while others overlap significantly (e.g. pop and hip-hop). Therefore, the next time you listen to a song don't feel bad if you guess the genre incorrectly (\"is Taylor Swift pop or country?\")."
   ]
  }
 ],
 "metadata": {
  "kernelspec": {
   "display_name": "Python 3",
   "language": "python",
   "name": "python3"
  },
  "language_info": {
   "codemirror_mode": {
    "name": "ipython",
    "version": 3
   },
   "file_extension": ".py",
   "mimetype": "text/x-python",
   "name": "python",
   "nbconvert_exporter": "python",
   "pygments_lexer": "ipython3",
   "version": "3.6.8"
  }
 },
 "nbformat": 4,
 "nbformat_minor": 2
}
