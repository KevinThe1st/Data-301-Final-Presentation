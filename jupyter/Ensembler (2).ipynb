{
 "cells": [
  {
   "cell_type": "markdown",
   "metadata": {},
   "source": [
    "# Building an Ensembler for a KNN and SVM classifiers"
   ]
  },
  {
   "cell_type": "markdown",
   "metadata": {},
   "source": [
    "**Now that we have built both SVM and KNN classifiers, what would happen if we were to combine the two in an ensembler?**"
   ]
  },
  {
   "cell_type": "code",
   "execution_count": 1,
   "metadata": {},
   "outputs": [],
   "source": [
    "import pandas as pd\n",
    "import numpy as np\n",
    "import pickle\n",
    "from sklearn.svm import SVC\n",
    "from sklearn.preprocessing import StandardScaler\n",
    "from sklearn.pipeline import Pipeline\n",
    "from sklearn.model_selection import cross_val_score\n",
    "from sklearn.feature_extraction import DictVectorizer\n",
    "from sklearn.feature_extraction.text import TfidfVectorizer\n",
    "from sklearn.decomposition import PCA\n",
    "from sklearn.neighbors import KNeighborsClassifier\n",
    "from sklearn.ensemble import VotingClassifier\n",
    "def warn(*args, **kwargs):\n",
    "    pass\n",
    "import warnings\n",
    "warnings.warn = warn"
   ]
  },
  {
   "cell_type": "markdown",
   "metadata": {},
   "source": [
    "**Downloading Data as before.**"
   ]
  },
  {
   "cell_type": "code",
   "execution_count": 2,
   "metadata": {},
   "outputs": [],
   "source": [
    "given = pickle.load(open(\"cleanedData.pkl\", \"rb\"))\n",
    "audio_analysis = pickle.load(open(\"audio_analysis_df.pkl\", \"rb\"))\n",
    "key_analysis = pickle.load(open(\"key_analysis_df.pkl\", \"rb\"))\n",
    "lengths_df = pickle.load(open(\"lengths_df.pkl\", \"rb\"))\n",
    "songs = pd.concat([given, audio_analysis, key_analysis, lengths_df], axis=1)"
   ]
  },
  {
   "cell_type": "markdown",
   "metadata": {},
   "source": [
    "**Narrowing down data frame into the features we desire.**"
   ]
  },
  {
   "cell_type": "code",
   "execution_count": 3,
   "metadata": {},
   "outputs": [],
   "source": [
    "features = ['genre', 'lyrics', 'num_words', 'num_lines',\n",
    "       'num_dupes', 'danceability', 'energy', 'loudness', 'mode',\n",
    "       'speechiness', 'acousticness', 'instrumentalness', 'liveness',\n",
    "       'valence', 'tempo', 'duration_ms', 'time_signature', \n",
    "            'year_bin', 'duration_avg', 'loudness_end_avg', 'loudness_max_avg',\n",
    "       'loudness_max_time_avg', 'loudness_start_avg', 'key_changes',\n",
    "       'num_sections', 'num_segments']"
   ]
  },
  {
   "cell_type": "code",
   "execution_count": 4,
   "metadata": {},
   "outputs": [],
   "source": [
    "data = songs[features].dropna()"
   ]
  },
  {
   "cell_type": "markdown",
   "metadata": {},
   "source": [
    "**Generating TF-IDF vectorizer on the lyrics and using these as well as the features above, for our X_train data set.**"
   ]
  },
  {
   "cell_type": "code",
   "execution_count": 5,
   "metadata": {},
   "outputs": [],
   "source": [
    "# Quantify the lyrics\n",
    "lyrics = data[\"lyrics\"].replace(\"\\n\", \" \")\n",
    "vector = TfidfVectorizer(norm=None, min_df = 0.015, stop_words={\"english\"}, lowercase=True) # Do not normalize.\n",
    "vector.fit(lyrics) # This determines the vocabulary.\n",
    "tf_idf_sparse = vector.transform(lyrics)\n",
    "lyrics = pd.DataFrame(tf_idf_sparse.todense())\n",
    "lyrics.columns = vector.vocabulary_\n",
    "    \n",
    "# Use the features that we would like\n",
    "df_features = data.drop([\"lyrics\",\"genre\"], axis=1).reset_index().drop(\"index\", axis=1)\n",
    "    \n",
    "# Create X_train and y_train\n",
    "X_train = pd.concat([df_features, lyrics], axis = 1, sort=False)\n",
    "y_train = data[\"genre\"]"
   ]
  },
  {
   "cell_type": "markdown",
   "metadata": {},
   "source": [
    "**Creating SVC model (`model1`)**"
   ]
  },
  {
   "cell_type": "code",
   "execution_count": 6,
   "metadata": {},
   "outputs": [],
   "source": [
    "# Vectorize the categorical variables\n",
    "X_dict = X_train.to_dict(orient=\"records\")\n",
    "vec = DictVectorizer(sparse=False)\n",
    "# Create Scaler, PCA, and SVC objects\n",
    "scaler = StandardScaler()\n",
    "pca = PCA(n_components=6)\n",
    "model = SVC()\n",
    "  \n",
    "# Construct the pipeline\n",
    "model1 = Pipeline([(\"vectorizer\", vec), (\"scaler\", scaler),(\"pca\", pca), (\"model\", model)])"
   ]
  },
  {
   "cell_type": "markdown",
   "metadata": {},
   "source": [
    "**Creating KNN Classifier model (`model2`)**"
   ]
  },
  {
   "cell_type": "code",
   "execution_count": 7,
   "metadata": {},
   "outputs": [],
   "source": [
    "X_dict = X_train.to_dict(orient=\"records\")\n",
    "vec = DictVectorizer(sparse=False)\n",
    "scaler = StandardScaler()\n",
    "model = KNeighborsClassifier(n_neighbors=36)\n",
    "  \n",
    "# Construct the pipeline\n",
    "model2 = Pipeline([(\"vectorizer\", vec), (\"scaler\", scaler), (\"model\", model)])"
   ]
  },
  {
   "cell_type": "markdown",
   "metadata": {},
   "source": [
    "**Building Ensembler**"
   ]
  },
  {
   "cell_type": "code",
   "execution_count": 8,
   "metadata": {},
   "outputs": [],
   "source": [
    "eclf1 = VotingClassifier(estimators=[('svc', model1), ('knn', model2)], voting='hard')"
   ]
  },
  {
   "cell_type": "code",
   "execution_count": 9,
   "metadata": {},
   "outputs": [],
   "source": [
    "eclf1 = eclf1.fit(X_dict, y_train)"
   ]
  },
  {
   "cell_type": "code",
   "execution_count": 10,
   "metadata": {},
   "outputs": [],
   "source": [
    "f1 = cross_val_score(eclf1,\n",
    "                        X_dict,\n",
    "                        y_train == \"rock\",\n",
    "                        cv=10, scoring=\"f1\").mean()"
   ]
  },
  {
   "cell_type": "code",
   "execution_count": 11,
   "metadata": {},
   "outputs": [
    {
     "data": {
      "text/plain": [
       "0.60541602355882695"
      ]
     },
     "execution_count": 11,
     "metadata": {},
     "output_type": "execute_result"
    }
   ],
   "source": [
    "f1"
   ]
  },
  {
   "cell_type": "markdown",
   "metadata": {},
   "source": [
    "**The Ensembler turns out to be worse than our SVC so we will stick with that model.**"
   ]
  },
  {
   "cell_type": "markdown",
   "metadata": {},
   "source": [
    "**Now we will use the SVC to predict the missing genres in the original data frame, in order to fill in the empty training data. We will then use that entire data set to predict the genres of the current Billboard top 100. This known as regression imputation and it has some drawbacks, such as causing relationships to be over identified and suggest greater precision in the imputed values than there should be. However, we are only doing it for a small fraction of the observations, so we are not too worried.**"
   ]
  },
  {
   "cell_type": "code",
   "execution_count": 12,
   "metadata": {},
   "outputs": [],
   "source": [
    "missing_genres = songs[songs.genre.isna()][features].drop([\"genre\"], axis=1)"
   ]
  },
  {
   "cell_type": "code",
   "execution_count": 13,
   "metadata": {},
   "outputs": [],
   "source": [
    "# Quantify the lyrics\n",
    "lyrics = missing_genres[\"lyrics\"].replace(\"\\n\", \" \")\n",
    "vector = TfidfVectorizer(norm=None, min_df = 0.015, stop_words={\"english\"}, lowercase=True) # Do not normalize.\n",
    "vector.fit(lyrics) # This determines the vocabulary.\n",
    "tf_idf_sparse = vector.transform(lyrics)\n",
    "lyrics = pd.DataFrame(tf_idf_sparse.todense())\n",
    "lyrics.columns = vector.vocabulary_\n",
    "lyrics = lyrics.set_index(pd.Index(missing_genres.index))\n",
    "    \n",
    "# Use the features that we would like\n",
    "df_features = missing_genres.drop([\"lyrics\"], axis=1)\n",
    "    \n",
    "# Create X_train and y_train\n",
    "X = pd.concat([df_features, lyrics], axis = 1, sort=False)\n"
   ]
  },
  {
   "cell_type": "code",
   "execution_count": 14,
   "metadata": {},
   "outputs": [
    {
     "data": {
      "text/plain": [
       "Pipeline(memory=None,\n",
       "     steps=[('vectorizer', DictVectorizer(dtype=<class 'numpy.float64'>, separator='=', sort=True,\n",
       "        sparse=False)), ('scaler', StandardScaler(copy=True, with_mean=True, with_std=True)), ('pca', PCA(copy=True, iterated_power='auto', n_components=6, random_state=None,\n",
       "  svd_solver='auto', tol=0.0, w...f', max_iter=-1, probability=False, random_state=None,\n",
       "  shrinking=True, tol=0.001, verbose=False))])"
      ]
     },
     "execution_count": 14,
     "metadata": {},
     "output_type": "execute_result"
    }
   ],
   "source": [
    "model1.fit(X_dict, y_train)"
   ]
  },
  {
   "cell_type": "code",
   "execution_count": 15,
   "metadata": {},
   "outputs": [],
   "source": [
    "predictions = model1.predict(X.to_dict(orient=\"records\"))"
   ]
  },
  {
   "cell_type": "code",
   "execution_count": 16,
   "metadata": {},
   "outputs": [
    {
     "data": {
      "text/plain": [
       "array(['rock', 'rock', 'rock', 'rock', 'rock', 'rock', 'rock', 'rock',\n",
       "       'rock', 'rock', 'rock', 'rock', 'rock', 'rock', 'jazz', 'rock',\n",
       "       'rock', 'rock', 'rock', 'rock'], dtype=object)"
      ]
     },
     "execution_count": 16,
     "metadata": {},
     "output_type": "execute_result"
    }
   ],
   "source": [
    "predictions[:20]"
   ]
  },
  {
   "cell_type": "code",
   "execution_count": 17,
   "metadata": {},
   "outputs": [],
   "source": [
    "missing_genres[\"genre\"] = predictions"
   ]
  },
  {
   "cell_type": "code",
   "execution_count": 18,
   "metadata": {},
   "outputs": [],
   "source": [
    "songs.update(missing_genres[\"genre\"])"
   ]
  },
  {
   "cell_type": "code",
   "execution_count": 19,
   "metadata": {},
   "outputs": [],
   "source": [
    "songs_train = songs[features]\n",
    "y_train = songs[\"genre\"]"
   ]
  },
  {
   "cell_type": "code",
   "execution_count": 20,
   "metadata": {},
   "outputs": [],
   "source": [
    "# Quantify the lyrics\n",
    "lyrics = songs_train[\"lyrics\"].replace(\"\\n\", \" \")\n",
    "vector = TfidfVectorizer(norm=None, min_df = 0.015, stop_words={\"english\"}, lowercase=True) # Do not normalize.\n",
    "vector.fit(lyrics) # This determines the vocabulary.\n",
    "tf_idf_sparse = vector.transform(lyrics)\n",
    "lyrics = pd.DataFrame(tf_idf_sparse.todense())\n",
    "lyrics.columns = vector.vocabulary_\n",
    "    \n",
    "# Use the features that we would like\n",
    "df_features = songs_train.drop([\"lyrics\"], axis=1)\n",
    "    \n",
    "# Create X_train and y_train\n",
    "X = pd.concat([df_features, lyrics], axis = 1, sort=False)\n"
   ]
  },
  {
   "cell_type": "markdown",
   "metadata": {},
   "source": [
    "**Re-fitting the model to include our newly predicted genres.**"
   ]
  },
  {
   "cell_type": "code",
   "execution_count": 21,
   "metadata": {},
   "outputs": [
    {
     "data": {
      "text/plain": [
       "Pipeline(memory=None,\n",
       "     steps=[('vectorizer', DictVectorizer(dtype=<class 'numpy.float64'>, separator='=', sort=True,\n",
       "        sparse=False)), ('scaler', StandardScaler(copy=True, with_mean=True, with_std=True)), ('pca', PCA(copy=True, iterated_power='auto', n_components=6, random_state=None,\n",
       "  svd_solver='auto', tol=0.0, w...f', max_iter=-1, probability=False, random_state=None,\n",
       "  shrinking=True, tol=0.001, verbose=False))])"
      ]
     },
     "execution_count": 21,
     "metadata": {},
     "output_type": "execute_result"
    }
   ],
   "source": [
    "model1.fit(X.to_dict(orient=\"records\"), y_train)"
   ]
  },
  {
   "cell_type": "markdown",
   "metadata": {},
   "source": [
    "**Now that we have a finalized model with a complete data set, let's take a look at how it performs agains all the songs. While accuracy is not the best measure of an individual class, we will use it to gain a holistic perspective on the performance of our model across all of our data.**"
   ]
  },
  {
   "cell_type": "code",
   "execution_count": 22,
   "metadata": {},
   "outputs": [
    {
     "data": {
      "text/plain": [
       "0.58845431042106267"
      ]
     },
     "execution_count": 22,
     "metadata": {},
     "output_type": "execute_result"
    }
   ],
   "source": [
    "accuracy = cross_val_score(model1,\n",
    "                        X.to_dict(orient=\"records\"),\n",
    "                        y_train,\n",
    "                        cv=10, scoring=\"accuracy\").mean()\n",
    "accuracy"
   ]
  },
  {
   "cell_type": "markdown",
   "metadata": {},
   "source": [
    "Overall, our model did fairly well with regards to all songs."
   ]
  },
  {
   "cell_type": "markdown",
   "metadata": {},
   "source": [
    "# **Now we can predict the genres of the current top 100 songs on billboard hot-100!**"
   ]
  },
  {
   "cell_type": "code",
   "execution_count": 23,
   "metadata": {},
   "outputs": [],
   "source": [
    "top100 = pickle.load(open(\"top100_df.pkl\", \"rb\"))"
   ]
  },
  {
   "cell_type": "code",
   "execution_count": 24,
   "metadata": {},
   "outputs": [],
   "source": [
    "top100[\"year_bin\"] = \"10s\""
   ]
  },
  {
   "cell_type": "code",
   "execution_count": 25,
   "metadata": {},
   "outputs": [],
   "source": [
    "features = ['lyrics', 'num_words', 'num_lines',\n",
    "       'num_dupes', 'danceability', 'energy', 'loudness', 'mode',\n",
    "       'speechiness', 'acousticness', 'instrumentalness', 'liveness',\n",
    "       'valence', 'tempo', 'duration_ms', 'time_signature', \n",
    "            'year_bin', 'duration_avg', 'loudness_end_avg', 'loudness_max_avg',\n",
    "       'loudness_max_time_avg', 'loudness_start_avg', 'key_changes',\n",
    "       'num_sections', 'num_segments']"
   ]
  },
  {
   "cell_type": "code",
   "execution_count": 26,
   "metadata": {},
   "outputs": [
    {
     "data": {
      "text/html": [
       "<div>\n",
       "<style scoped>\n",
       "    .dataframe tbody tr th:only-of-type {\n",
       "        vertical-align: middle;\n",
       "    }\n",
       "\n",
       "    .dataframe tbody tr th {\n",
       "        vertical-align: top;\n",
       "    }\n",
       "\n",
       "    .dataframe thead th {\n",
       "        text-align: right;\n",
       "    }\n",
       "</style>\n",
       "<table border=\"1\" class=\"dataframe\">\n",
       "  <thead>\n",
       "    <tr style=\"text-align: right;\">\n",
       "      <th></th>\n",
       "      <th>lyrics</th>\n",
       "      <th>num_words</th>\n",
       "      <th>num_lines</th>\n",
       "      <th>num_dupes</th>\n",
       "      <th>danceability</th>\n",
       "      <th>energy</th>\n",
       "      <th>loudness</th>\n",
       "      <th>mode</th>\n",
       "      <th>speechiness</th>\n",
       "      <th>acousticness</th>\n",
       "      <th>...</th>\n",
       "      <th>time_signature</th>\n",
       "      <th>year_bin</th>\n",
       "      <th>duration_avg</th>\n",
       "      <th>loudness_end_avg</th>\n",
       "      <th>loudness_max_avg</th>\n",
       "      <th>loudness_max_time_avg</th>\n",
       "      <th>loudness_start_avg</th>\n",
       "      <th>key_changes</th>\n",
       "      <th>num_sections</th>\n",
       "      <th>num_segments</th>\n",
       "    </tr>\n",
       "  </thead>\n",
       "  <tbody>\n",
       "    <tr>\n",
       "      <th>0</th>\n",
       "      <td>We go together \\n Better than birds of a feath...</td>\n",
       "      <td>383</td>\n",
       "      <td>46</td>\n",
       "      <td>29</td>\n",
       "      <td>0.846</td>\n",
       "      <td>0.731</td>\n",
       "      <td>-5.027</td>\n",
       "      <td>0</td>\n",
       "      <td>0.0640</td>\n",
       "      <td>0.0436</td>\n",
       "      <td>...</td>\n",
       "      <td>4</td>\n",
       "      <td>10s</td>\n",
       "      <td>0.247322</td>\n",
       "      <td>-60.0</td>\n",
       "      <td>-5.140011</td>\n",
       "      <td>0.052402</td>\n",
       "      <td>-16.998504</td>\n",
       "      <td>6</td>\n",
       "      <td>12</td>\n",
       "      <td>732</td>\n",
       "    </tr>\n",
       "    <tr>\n",
       "      <th>1</th>\n",
       "      <td>Yeah, breakfast at Tiffany's and bottles of bu...</td>\n",
       "      <td>480</td>\n",
       "      <td>50</td>\n",
       "      <td>16</td>\n",
       "      <td>0.725</td>\n",
       "      <td>0.321</td>\n",
       "      <td>-10.744</td>\n",
       "      <td>0</td>\n",
       "      <td>0.3230</td>\n",
       "      <td>0.5780</td>\n",
       "      <td>...</td>\n",
       "      <td>4</td>\n",
       "      <td>10s</td>\n",
       "      <td>0.272733</td>\n",
       "      <td>-60.0</td>\n",
       "      <td>-12.369545</td>\n",
       "      <td>0.067081</td>\n",
       "      <td>-23.344505</td>\n",
       "      <td>1</td>\n",
       "      <td>4</td>\n",
       "      <td>655</td>\n",
       "    </tr>\n",
       "    <tr>\n",
       "      <th>2</th>\n",
       "      <td>Uh, uh, yeah, come on \\n  \\n Please me, baby \\...</td>\n",
       "      <td>487</td>\n",
       "      <td>85</td>\n",
       "      <td>51</td>\n",
       "      <td>0.747</td>\n",
       "      <td>0.570</td>\n",
       "      <td>-6.711</td>\n",
       "      <td>1</td>\n",
       "      <td>0.0810</td>\n",
       "      <td>0.0642</td>\n",
       "      <td>...</td>\n",
       "      <td>4</td>\n",
       "      <td>10s</td>\n",
       "      <td>0.244987</td>\n",
       "      <td>-60.0</td>\n",
       "      <td>-6.354572</td>\n",
       "      <td>0.059532</td>\n",
       "      <td>-16.062940</td>\n",
       "      <td>5</td>\n",
       "      <td>11</td>\n",
       "      <td>820</td>\n",
       "    </tr>\n",
       "    <tr>\n",
       "      <th>3</th>\n",
       "      <td>Swae Lee: \\n Needless to say, I keep it in che...</td>\n",
       "      <td>276</td>\n",
       "      <td>38</td>\n",
       "      <td>11</td>\n",
       "      <td>0.760</td>\n",
       "      <td>0.479</td>\n",
       "      <td>-5.574</td>\n",
       "      <td>1</td>\n",
       "      <td>0.0466</td>\n",
       "      <td>0.5560</td>\n",
       "      <td>...</td>\n",
       "      <td>4</td>\n",
       "      <td>10s</td>\n",
       "      <td>0.264724</td>\n",
       "      <td>-60.0</td>\n",
       "      <td>-6.413338</td>\n",
       "      <td>0.057229</td>\n",
       "      <td>-16.804481</td>\n",
       "      <td>3</td>\n",
       "      <td>8</td>\n",
       "      <td>597</td>\n",
       "    </tr>\n",
       "    <tr>\n",
       "      <th>4</th>\n",
       "      <td>Found you when your heart was broke \\n I fille...</td>\n",
       "      <td>434</td>\n",
       "      <td>54</td>\n",
       "      <td>36</td>\n",
       "      <td>0.752</td>\n",
       "      <td>0.488</td>\n",
       "      <td>-7.050</td>\n",
       "      <td>1</td>\n",
       "      <td>0.0705</td>\n",
       "      <td>0.2970</td>\n",
       "      <td>...</td>\n",
       "      <td>4</td>\n",
       "      <td>10s</td>\n",
       "      <td>0.275493</td>\n",
       "      <td>-60.0</td>\n",
       "      <td>-8.837766</td>\n",
       "      <td>0.062921</td>\n",
       "      <td>-18.748720</td>\n",
       "      <td>7</td>\n",
       "      <td>11</td>\n",
       "      <td>732</td>\n",
       "    </tr>\n",
       "  </tbody>\n",
       "</table>\n",
       "<p>5 rows × 25 columns</p>\n",
       "</div>"
      ],
      "text/plain": [
       "                                              lyrics  num_words  num_lines  \\\n",
       "0  We go together \\n Better than birds of a feath...        383         46   \n",
       "1  Yeah, breakfast at Tiffany's and bottles of bu...        480         50   \n",
       "2  Uh, uh, yeah, come on \\n  \\n Please me, baby \\...        487         85   \n",
       "3  Swae Lee: \\n Needless to say, I keep it in che...        276         38   \n",
       "4  Found you when your heart was broke \\n I fille...        434         54   \n",
       "\n",
       "   num_dupes  danceability  energy  loudness  mode  speechiness  acousticness  \\\n",
       "0         29         0.846   0.731    -5.027     0       0.0640        0.0436   \n",
       "1         16         0.725   0.321   -10.744     0       0.3230        0.5780   \n",
       "2         51         0.747   0.570    -6.711     1       0.0810        0.0642   \n",
       "3         11         0.760   0.479    -5.574     1       0.0466        0.5560   \n",
       "4         36         0.752   0.488    -7.050     1       0.0705        0.2970   \n",
       "\n",
       "       ...       time_signature  year_bin  duration_avg  loudness_end_avg  \\\n",
       "0      ...                    4       10s      0.247322             -60.0   \n",
       "1      ...                    4       10s      0.272733             -60.0   \n",
       "2      ...                    4       10s      0.244987             -60.0   \n",
       "3      ...                    4       10s      0.264724             -60.0   \n",
       "4      ...                    4       10s      0.275493             -60.0   \n",
       "\n",
       "   loudness_max_avg  loudness_max_time_avg loudness_start_avg  key_changes  \\\n",
       "0         -5.140011               0.052402         -16.998504            6   \n",
       "1        -12.369545               0.067081         -23.344505            1   \n",
       "2         -6.354572               0.059532         -16.062940            5   \n",
       "3         -6.413338               0.057229         -16.804481            3   \n",
       "4         -8.837766               0.062921         -18.748720            7   \n",
       "\n",
       "   num_sections  num_segments  \n",
       "0            12           732  \n",
       "1             4           655  \n",
       "2            11           820  \n",
       "3             8           597  \n",
       "4            11           732  \n",
       "\n",
       "[5 rows x 25 columns]"
      ]
     },
     "execution_count": 26,
     "metadata": {},
     "output_type": "execute_result"
    }
   ],
   "source": [
    "top100[features].head()"
   ]
  },
  {
   "cell_type": "code",
   "execution_count": 27,
   "metadata": {},
   "outputs": [],
   "source": [
    "top100_df = top100[features]"
   ]
  },
  {
   "cell_type": "code",
   "execution_count": 28,
   "metadata": {},
   "outputs": [],
   "source": [
    "# Quantify the lyrics\n",
    "lyrics = top100_df[\"lyrics\"].replace(\"\\n\", \" \")\n",
    "vector = TfidfVectorizer(norm=None, min_df = 0.015, stop_words={\"english\"}, lowercase=True) # Do not normalize.\n",
    "vector.fit(lyrics) # This determines the vocabulary.\n",
    "tf_idf_sparse = vector.transform(lyrics)\n",
    "lyrics = pd.DataFrame(tf_idf_sparse.todense())\n",
    "lyrics.columns = vector.vocabulary_\n",
    "    \n",
    "# Use the features that we would like\n",
    "df_features = top100_df.drop([\"lyrics\"], axis=1)\n",
    "    \n",
    "# Create X_train and y_train\n",
    "X = pd.concat([df_features, lyrics], axis = 1, sort=False)"
   ]
  },
  {
   "cell_type": "code",
   "execution_count": 29,
   "metadata": {},
   "outputs": [],
   "source": [
    "top100_preds = model1.predict(X.to_dict(orient=\"records\"))"
   ]
  },
  {
   "cell_type": "code",
   "execution_count": 30,
   "metadata": {},
   "outputs": [
    {
     "data": {
      "text/plain": [
       "array(['rock', 'rock', 'rock', 'rock', 'rock', 'rock', 'rock', 'rock',\n",
       "       'hip-hop', 'pop', 'hip-hop', 'country', 'rock', 'rock', 'rock',\n",
       "       'rock', 'hip-hop', 'pop', 'rock', 'rock', 'rock', 'country',\n",
       "       'hip-hop', 'country', 'rock', 'rock', 'pop', 'rock', 'rock',\n",
       "       'country', 'hip-hop', 'rock', 'rock', 'rock', 'rock', 'country',\n",
       "       'country', 'rock', 'rock', 'rock', 'pop', 'rock', 'rock', 'rock',\n",
       "       'rock', 'rock', 'rock', 'rock', 'rock', 'rock', 'rock', 'rock',\n",
       "       'rock', 'rock', 'rock', 'rock', 'rock', 'rock', 'rock', 'rock',\n",
       "       'rock', 'rock', 'rock', 'rock', 'rock', 'country', 'pop', 'rock',\n",
       "       'rock', 'rock', 'rock', 'rock', 'hip-hop', 'rock', 'rock', 'rock',\n",
       "       'rock', 'rock', 'rock', 'rock', 'rock', 'rock', 'rock', 'hip-hop',\n",
       "       'rock', 'rock', 'rock', 'rock', 'rock', 'rock', 'rock', 'rock',\n",
       "       'rock', 'rock', 'rock', 'rock', 'rock', 'rock', 'pop', 'rock'], dtype=object)"
      ]
     },
     "execution_count": 30,
     "metadata": {},
     "output_type": "execute_result"
    }
   ],
   "source": [
    "top100_preds"
   ]
  },
  {
   "cell_type": "code",
   "execution_count": 31,
   "metadata": {},
   "outputs": [],
   "source": [
    "top100[\"genre\"] = top100_preds"
   ]
  },
  {
   "cell_type": "markdown",
   "metadata": {},
   "source": [
    "**Here are the predictions of the genres that were made by the model for the top 100 songs.**"
   ]
  },
  {
   "cell_type": "code",
   "execution_count": 32,
   "metadata": {},
   "outputs": [
    {
     "data": {
      "text/html": [
       "<div>\n",
       "<style scoped>\n",
       "    .dataframe tbody tr th:only-of-type {\n",
       "        vertical-align: middle;\n",
       "    }\n",
       "\n",
       "    .dataframe tbody tr th {\n",
       "        vertical-align: top;\n",
       "    }\n",
       "\n",
       "    .dataframe thead th {\n",
       "        text-align: right;\n",
       "    }\n",
       "</style>\n",
       "<table border=\"1\" class=\"dataframe\">\n",
       "  <thead>\n",
       "    <tr style=\"text-align: right;\">\n",
       "      <th></th>\n",
       "      <th>title</th>\n",
       "      <th>artist</th>\n",
       "      <th>genre</th>\n",
       "    </tr>\n",
       "  </thead>\n",
       "  <tbody>\n",
       "    <tr>\n",
       "      <th>0</th>\n",
       "      <td>Sucker</td>\n",
       "      <td>Jonas Brothers</td>\n",
       "      <td>rock</td>\n",
       "    </tr>\n",
       "    <tr>\n",
       "      <th>1</th>\n",
       "      <td>7 Rings</td>\n",
       "      <td>Ariana Grande</td>\n",
       "      <td>rock</td>\n",
       "    </tr>\n",
       "    <tr>\n",
       "      <th>2</th>\n",
       "      <td>Please Me</td>\n",
       "      <td>Cardi B &amp; Bruno Mars</td>\n",
       "      <td>rock</td>\n",
       "    </tr>\n",
       "    <tr>\n",
       "      <th>3</th>\n",
       "      <td>Sunflower (Spider-Man: Into The Spider-Verse)</td>\n",
       "      <td>Post Malone &amp; Swae Lee</td>\n",
       "      <td>rock</td>\n",
       "    </tr>\n",
       "    <tr>\n",
       "      <th>4</th>\n",
       "      <td>Without Me</td>\n",
       "      <td>Halsey</td>\n",
       "      <td>rock</td>\n",
       "    </tr>\n",
       "    <tr>\n",
       "      <th>5</th>\n",
       "      <td>Shallow</td>\n",
       "      <td>Lady Gaga &amp; Bradley Cooper</td>\n",
       "      <td>rock</td>\n",
       "    </tr>\n",
       "    <tr>\n",
       "      <th>6</th>\n",
       "      <td>Wow.</td>\n",
       "      <td>Post Malone</td>\n",
       "      <td>rock</td>\n",
       "    </tr>\n",
       "    <tr>\n",
       "      <th>7</th>\n",
       "      <td>Happier</td>\n",
       "      <td>Marshmello &amp; Bastille</td>\n",
       "      <td>rock</td>\n",
       "    </tr>\n",
       "    <tr>\n",
       "      <th>8</th>\n",
       "      <td>Middle Child</td>\n",
       "      <td>J. Cole</td>\n",
       "      <td>hip-hop</td>\n",
       "    </tr>\n",
       "    <tr>\n",
       "      <th>9</th>\n",
       "      <td>Sicko Mode</td>\n",
       "      <td>Travis Scott</td>\n",
       "      <td>pop</td>\n",
       "    </tr>\n",
       "    <tr>\n",
       "      <th>10</th>\n",
       "      <td>Thank U, Next</td>\n",
       "      <td>Ariana Grande</td>\n",
       "      <td>hip-hop</td>\n",
       "    </tr>\n",
       "    <tr>\n",
       "      <th>11</th>\n",
       "      <td>High Hopes</td>\n",
       "      <td>Panic! At The Disco</td>\n",
       "      <td>country</td>\n",
       "    </tr>\n",
       "    <tr>\n",
       "      <th>12</th>\n",
       "      <td>Thotiana</td>\n",
       "      <td>Blueface</td>\n",
       "      <td>rock</td>\n",
       "    </tr>\n",
       "    <tr>\n",
       "      <th>13</th>\n",
       "      <td>Eastside</td>\n",
       "      <td>benny blanco, Halsey &amp; Khalid</td>\n",
       "      <td>rock</td>\n",
       "    </tr>\n",
       "    <tr>\n",
       "      <th>14</th>\n",
       "      <td>Break Up With Your Girlfriend, I'm Bored</td>\n",
       "      <td>Ariana Grande</td>\n",
       "      <td>rock</td>\n",
       "    </tr>\n",
       "    <tr>\n",
       "      <th>15</th>\n",
       "      <td>Going Bad</td>\n",
       "      <td>Meek Mill Featuring Drake</td>\n",
       "      <td>rock</td>\n",
       "    </tr>\n",
       "    <tr>\n",
       "      <th>16</th>\n",
       "      <td>Murder On My Mind</td>\n",
       "      <td>YNW Melly</td>\n",
       "      <td>hip-hop</td>\n",
       "    </tr>\n",
       "    <tr>\n",
       "      <th>17</th>\n",
       "      <td>A Lot</td>\n",
       "      <td>21 Savage</td>\n",
       "      <td>pop</td>\n",
       "    </tr>\n",
       "    <tr>\n",
       "      <th>18</th>\n",
       "      <td>Girls Like You</td>\n",
       "      <td>Maroon 5 Featuring Cardi B</td>\n",
       "      <td>rock</td>\n",
       "    </tr>\n",
       "    <tr>\n",
       "      <th>19</th>\n",
       "      <td>Dancing With A Stranger</td>\n",
       "      <td>Sam Smith &amp; Normani</td>\n",
       "      <td>rock</td>\n",
       "    </tr>\n",
       "    <tr>\n",
       "      <th>20</th>\n",
       "      <td>Better</td>\n",
       "      <td>Khalid</td>\n",
       "      <td>rock</td>\n",
       "    </tr>\n",
       "    <tr>\n",
       "      <th>21</th>\n",
       "      <td>Drip Too Hard</td>\n",
       "      <td>Lil Baby &amp; Gunna</td>\n",
       "      <td>country</td>\n",
       "    </tr>\n",
       "    <tr>\n",
       "      <th>22</th>\n",
       "      <td>Money</td>\n",
       "      <td>Cardi B</td>\n",
       "      <td>hip-hop</td>\n",
       "    </tr>\n",
       "    <tr>\n",
       "      <th>23</th>\n",
       "      <td>Sweet But Psycho</td>\n",
       "      <td>Ava Max</td>\n",
       "      <td>country</td>\n",
       "    </tr>\n",
       "    <tr>\n",
       "      <th>24</th>\n",
       "      <td>Beautiful Crazy</td>\n",
       "      <td>Luke Combs</td>\n",
       "      <td>rock</td>\n",
       "    </tr>\n",
       "    <tr>\n",
       "      <th>25</th>\n",
       "      <td>Be Alright</td>\n",
       "      <td>Dean Lewis</td>\n",
       "      <td>rock</td>\n",
       "    </tr>\n",
       "    <tr>\n",
       "      <th>26</th>\n",
       "      <td>MIA</td>\n",
       "      <td>Bad Bunny Featuring Drake</td>\n",
       "      <td>pop</td>\n",
       "    </tr>\n",
       "    <tr>\n",
       "      <th>27</th>\n",
       "      <td>ZEZE</td>\n",
       "      <td>Kodak Black Featuring Travis Scott &amp; Offset</td>\n",
       "      <td>rock</td>\n",
       "    </tr>\n",
       "    <tr>\n",
       "      <th>28</th>\n",
       "      <td>Better Now</td>\n",
       "      <td>Post Malone</td>\n",
       "      <td>rock</td>\n",
       "    </tr>\n",
       "    <tr>\n",
       "      <th>29</th>\n",
       "      <td>Youngblood</td>\n",
       "      <td>5 Seconds Of Summer</td>\n",
       "      <td>country</td>\n",
       "    </tr>\n",
       "    <tr>\n",
       "      <th>...</th>\n",
       "      <td>...</td>\n",
       "      <td>...</td>\n",
       "      <td>...</td>\n",
       "    </tr>\n",
       "    <tr>\n",
       "      <th>70</th>\n",
       "      <td>There Was This Girl</td>\n",
       "      <td>Riley Green</td>\n",
       "      <td>rock</td>\n",
       "    </tr>\n",
       "    <tr>\n",
       "      <th>71</th>\n",
       "      <td>Bad Liar</td>\n",
       "      <td>Imagine Dragons</td>\n",
       "      <td>rock</td>\n",
       "    </tr>\n",
       "    <tr>\n",
       "      <th>72</th>\n",
       "      <td>Red Room</td>\n",
       "      <td>Offset</td>\n",
       "      <td>hip-hop</td>\n",
       "    </tr>\n",
       "    <tr>\n",
       "      <th>73</th>\n",
       "      <td>Wish You Were Gay</td>\n",
       "      <td>Billie Eilish</td>\n",
       "      <td>rock</td>\n",
       "    </tr>\n",
       "    <tr>\n",
       "      <th>74</th>\n",
       "      <td>Whip</td>\n",
       "      <td>2 Chainz Featuring Travis Scott</td>\n",
       "      <td>rock</td>\n",
       "    </tr>\n",
       "    <tr>\n",
       "      <th>75</th>\n",
       "      <td>Make It Sweet</td>\n",
       "      <td>Old Dominion</td>\n",
       "      <td>rock</td>\n",
       "    </tr>\n",
       "    <tr>\n",
       "      <th>76</th>\n",
       "      <td>Act Up</td>\n",
       "      <td>City Girls</td>\n",
       "      <td>rock</td>\n",
       "    </tr>\n",
       "    <tr>\n",
       "      <th>77</th>\n",
       "      <td>Good As You</td>\n",
       "      <td>Kane Brown</td>\n",
       "      <td>rock</td>\n",
       "    </tr>\n",
       "    <tr>\n",
       "      <th>78</th>\n",
       "      <td>Nights Like This</td>\n",
       "      <td>Kehlani Featuring Ty Dolla $ign</td>\n",
       "      <td>rock</td>\n",
       "    </tr>\n",
       "    <tr>\n",
       "      <th>79</th>\n",
       "      <td>Calling My Spirit</td>\n",
       "      <td>Kodak Black</td>\n",
       "      <td>rock</td>\n",
       "    </tr>\n",
       "    <tr>\n",
       "      <th>80</th>\n",
       "      <td>Miss Me More</td>\n",
       "      <td>Kelsea Ballerini</td>\n",
       "      <td>rock</td>\n",
       "    </tr>\n",
       "    <tr>\n",
       "      <th>81</th>\n",
       "      <td>Armed And Dangerous</td>\n",
       "      <td>Juice WRLD</td>\n",
       "      <td>rock</td>\n",
       "    </tr>\n",
       "    <tr>\n",
       "      <th>82</th>\n",
       "      <td>Old Town Road</td>\n",
       "      <td>Lil Nas X</td>\n",
       "      <td>rock</td>\n",
       "    </tr>\n",
       "    <tr>\n",
       "      <th>83</th>\n",
       "      <td>Secreto</td>\n",
       "      <td>Anuel AA &amp; Karol G</td>\n",
       "      <td>hip-hop</td>\n",
       "    </tr>\n",
       "    <tr>\n",
       "      <th>84</th>\n",
       "      <td>Whiskey Glasses</td>\n",
       "      <td>Morgan Wallen</td>\n",
       "      <td>rock</td>\n",
       "    </tr>\n",
       "    <tr>\n",
       "      <th>85</th>\n",
       "      <td>Night Shift</td>\n",
       "      <td>Jon Pardi</td>\n",
       "      <td>rock</td>\n",
       "    </tr>\n",
       "    <tr>\n",
       "      <th>86</th>\n",
       "      <td>Faucet Failure</td>\n",
       "      <td>Ski Mask The Slump God</td>\n",
       "      <td>rock</td>\n",
       "    </tr>\n",
       "    <tr>\n",
       "      <th>87</th>\n",
       "      <td>Walk Me Home</td>\n",
       "      <td>P!nk</td>\n",
       "      <td>rock</td>\n",
       "    </tr>\n",
       "    <tr>\n",
       "      <th>88</th>\n",
       "      <td>One That Got Away</td>\n",
       "      <td>Michael Ray</td>\n",
       "      <td>rock</td>\n",
       "    </tr>\n",
       "    <tr>\n",
       "      <th>89</th>\n",
       "      <td>Put A Date On It</td>\n",
       "      <td>Yo Gotti Featuring Lil Baby</td>\n",
       "      <td>rock</td>\n",
       "    </tr>\n",
       "    <tr>\n",
       "      <th>90</th>\n",
       "      <td>Lovely</td>\n",
       "      <td>Billie Eilish &amp; Khalid</td>\n",
       "      <td>rock</td>\n",
       "    </tr>\n",
       "    <tr>\n",
       "      <th>91</th>\n",
       "      <td>Needy</td>\n",
       "      <td>Ariana Grande</td>\n",
       "      <td>rock</td>\n",
       "    </tr>\n",
       "    <tr>\n",
       "      <th>92</th>\n",
       "      <td>I Can't Get Enough</td>\n",
       "      <td>benny blanco, Tainy, Selena Gomez &amp; J Balvin</td>\n",
       "      <td>rock</td>\n",
       "    </tr>\n",
       "    <tr>\n",
       "      <th>93</th>\n",
       "      <td>Rule The World</td>\n",
       "      <td>2 Chainz Featuring Ariana Grande</td>\n",
       "      <td>rock</td>\n",
       "    </tr>\n",
       "    <tr>\n",
       "      <th>94</th>\n",
       "      <td>When The Party's Over</td>\n",
       "      <td>Billie Eilish</td>\n",
       "      <td>rock</td>\n",
       "    </tr>\n",
       "    <tr>\n",
       "      <th>95</th>\n",
       "      <td>Love Someone</td>\n",
       "      <td>Lukas Graham</td>\n",
       "      <td>rock</td>\n",
       "    </tr>\n",
       "    <tr>\n",
       "      <th>96</th>\n",
       "      <td>Talk You Out Of It</td>\n",
       "      <td>Florida Georgia Line</td>\n",
       "      <td>rock</td>\n",
       "    </tr>\n",
       "    <tr>\n",
       "      <th>97</th>\n",
       "      <td>Love Wins</td>\n",
       "      <td>Carrie Underwood</td>\n",
       "      <td>rock</td>\n",
       "    </tr>\n",
       "    <tr>\n",
       "      <th>98</th>\n",
       "      <td>On My Way To You</td>\n",
       "      <td>Cody Johnson</td>\n",
       "      <td>pop</td>\n",
       "    </tr>\n",
       "    <tr>\n",
       "      <th>99</th>\n",
       "      <td>Momma I Hit A Lick</td>\n",
       "      <td>2 Chainz Featuring Kendrick Lamar</td>\n",
       "      <td>rock</td>\n",
       "    </tr>\n",
       "  </tbody>\n",
       "</table>\n",
       "<p>100 rows × 3 columns</p>\n",
       "</div>"
      ],
      "text/plain": [
       "                                            title  \\\n",
       "0                                          Sucker   \n",
       "1                                         7 Rings   \n",
       "2                                       Please Me   \n",
       "3   Sunflower (Spider-Man: Into The Spider-Verse)   \n",
       "4                                      Without Me   \n",
       "5                                         Shallow   \n",
       "6                                            Wow.   \n",
       "7                                         Happier   \n",
       "8                                    Middle Child   \n",
       "9                                      Sicko Mode   \n",
       "10                                  Thank U, Next   \n",
       "11                                     High Hopes   \n",
       "12                                       Thotiana   \n",
       "13                                       Eastside   \n",
       "14       Break Up With Your Girlfriend, I'm Bored   \n",
       "15                                     Going Bad    \n",
       "16                              Murder On My Mind   \n",
       "17                                          A Lot   \n",
       "18                                 Girls Like You   \n",
       "19                        Dancing With A Stranger   \n",
       "20                                         Better   \n",
       "21                                  Drip Too Hard   \n",
       "22                                          Money   \n",
       "23                               Sweet But Psycho   \n",
       "24                                Beautiful Crazy   \n",
       "25                                     Be Alright   \n",
       "26                                            MIA   \n",
       "27                                           ZEZE   \n",
       "28                                     Better Now   \n",
       "29                                     Youngblood   \n",
       "..                                            ...   \n",
       "70                            There Was This Girl   \n",
       "71                                       Bad Liar   \n",
       "72                                       Red Room   \n",
       "73                              Wish You Were Gay   \n",
       "74                                           Whip   \n",
       "75                                  Make It Sweet   \n",
       "76                                         Act Up   \n",
       "77                                    Good As You   \n",
       "78                               Nights Like This   \n",
       "79                              Calling My Spirit   \n",
       "80                                   Miss Me More   \n",
       "81                            Armed And Dangerous   \n",
       "82                                  Old Town Road   \n",
       "83                                        Secreto   \n",
       "84                                Whiskey Glasses   \n",
       "85                                    Night Shift   \n",
       "86                                 Faucet Failure   \n",
       "87                                   Walk Me Home   \n",
       "88                              One That Got Away   \n",
       "89                               Put A Date On It   \n",
       "90                                         Lovely   \n",
       "91                                          Needy   \n",
       "92                             I Can't Get Enough   \n",
       "93                                 Rule The World   \n",
       "94                          When The Party's Over   \n",
       "95                                   Love Someone   \n",
       "96                             Talk You Out Of It   \n",
       "97                                      Love Wins   \n",
       "98                               On My Way To You   \n",
       "99                             Momma I Hit A Lick   \n",
       "\n",
       "                                          artist    genre  \n",
       "0                                 Jonas Brothers     rock  \n",
       "1                                  Ariana Grande     rock  \n",
       "2                           Cardi B & Bruno Mars     rock  \n",
       "3                         Post Malone & Swae Lee     rock  \n",
       "4                                         Halsey     rock  \n",
       "5                     Lady Gaga & Bradley Cooper     rock  \n",
       "6                                    Post Malone     rock  \n",
       "7                          Marshmello & Bastille     rock  \n",
       "8                                        J. Cole  hip-hop  \n",
       "9                                   Travis Scott      pop  \n",
       "10                                 Ariana Grande  hip-hop  \n",
       "11                           Panic! At The Disco  country  \n",
       "12                                      Blueface     rock  \n",
       "13                 benny blanco, Halsey & Khalid     rock  \n",
       "14                                 Ariana Grande     rock  \n",
       "15                     Meek Mill Featuring Drake     rock  \n",
       "16                                     YNW Melly  hip-hop  \n",
       "17                                     21 Savage      pop  \n",
       "18                    Maroon 5 Featuring Cardi B     rock  \n",
       "19                           Sam Smith & Normani     rock  \n",
       "20                                        Khalid     rock  \n",
       "21                              Lil Baby & Gunna  country  \n",
       "22                                       Cardi B  hip-hop  \n",
       "23                                       Ava Max  country  \n",
       "24                                    Luke Combs     rock  \n",
       "25                                    Dean Lewis     rock  \n",
       "26                     Bad Bunny Featuring Drake      pop  \n",
       "27   Kodak Black Featuring Travis Scott & Offset     rock  \n",
       "28                                   Post Malone     rock  \n",
       "29                           5 Seconds Of Summer  country  \n",
       "..                                           ...      ...  \n",
       "70                                   Riley Green     rock  \n",
       "71                               Imagine Dragons     rock  \n",
       "72                                        Offset  hip-hop  \n",
       "73                                 Billie Eilish     rock  \n",
       "74               2 Chainz Featuring Travis Scott     rock  \n",
       "75                                  Old Dominion     rock  \n",
       "76                                    City Girls     rock  \n",
       "77                                    Kane Brown     rock  \n",
       "78               Kehlani Featuring Ty Dolla $ign     rock  \n",
       "79                                   Kodak Black     rock  \n",
       "80                              Kelsea Ballerini     rock  \n",
       "81                                    Juice WRLD     rock  \n",
       "82                                     Lil Nas X     rock  \n",
       "83                            Anuel AA & Karol G  hip-hop  \n",
       "84                                 Morgan Wallen     rock  \n",
       "85                                     Jon Pardi     rock  \n",
       "86                        Ski Mask The Slump God     rock  \n",
       "87                                          P!nk     rock  \n",
       "88                                   Michael Ray     rock  \n",
       "89                   Yo Gotti Featuring Lil Baby     rock  \n",
       "90                        Billie Eilish & Khalid     rock  \n",
       "91                                 Ariana Grande     rock  \n",
       "92  benny blanco, Tainy, Selena Gomez & J Balvin     rock  \n",
       "93              2 Chainz Featuring Ariana Grande     rock  \n",
       "94                                 Billie Eilish     rock  \n",
       "95                                  Lukas Graham     rock  \n",
       "96                          Florida Georgia Line     rock  \n",
       "97                              Carrie Underwood     rock  \n",
       "98                                  Cody Johnson      pop  \n",
       "99             2 Chainz Featuring Kendrick Lamar     rock  \n",
       "\n",
       "[100 rows x 3 columns]"
      ]
     },
     "execution_count": 32,
     "metadata": {},
     "output_type": "execute_result"
    }
   ],
   "source": [
    "top100[[\"title\", \"artist\",\"genre\"]]"
   ]
  },
  {
   "cell_type": "markdown",
   "metadata": {},
   "source": [
    "**How well did our model predict**"
   ]
  },
  {
   "cell_type": "code",
   "execution_count": 33,
   "metadata": {},
   "outputs": [
    {
     "data": {
      "text/plain": [
       "title     Whiskey Glasses\n",
       "artist      Morgan Wallen\n",
       "genre                rock\n",
       "Name: 84, dtype: object"
      ]
     },
     "execution_count": 33,
     "metadata": {},
     "output_type": "execute_result"
    }
   ],
   "source": [
    "top100[[\"title\", \"artist\",\"genre\"]].loc[84]"
   ]
  },
  {
   "cell_type": "markdown",
   "metadata": {},
   "source": [
    "**We predicted this song to be country and it is!**"
   ]
  },
  {
   "cell_type": "markdown",
   "metadata": {},
   "source": [
    "![](whiskeyCountry.png)"
   ]
  },
  {
   "cell_type": "markdown",
   "metadata": {},
   "source": [
    "**This is fairly impressive since there are very few country songs which have made it to the top 100 in our training data**"
   ]
  },
  {
   "cell_type": "code",
   "execution_count": 34,
   "metadata": {},
   "outputs": [
    {
     "data": {
      "text/plain": [
       "rock                 1893\n",
       "pop                   886\n",
       "hip-hop               317\n",
       "soul                  305\n",
       "country               159\n",
       "disco                 131\n",
       "jazz                   76\n",
       "rnb                    68\n",
       "electronic/dance       55\n",
       "blues                  49\n",
       "alternative/indie      37\n",
       "folk                   27\n",
       "reggae                 13\n",
       "swing                  12\n",
       "Name: genre, dtype: int64"
      ]
     },
     "execution_count": 34,
     "metadata": {},
     "output_type": "execute_result"
    }
   ],
   "source": [
    "songs.genre.value_counts()"
   ]
  },
  {
   "cell_type": "code",
   "execution_count": 35,
   "metadata": {},
   "outputs": [
    {
     "data": {
      "text/plain": [
       "rock       80\n",
       "country     7\n",
       "hip-hop     7\n",
       "pop         6\n",
       "Name: genre, dtype: int64"
      ]
     },
     "execution_count": 35,
     "metadata": {},
     "output_type": "execute_result"
    }
   ],
   "source": [
    "top100.genre.value_counts()"
   ]
  },
  {
   "cell_type": "markdown",
   "metadata": {},
   "source": [
    "**We may assume pop is such a popular genre nowadays and we may think that most of the songs on the top 100 should be pop. It may also appear that our model over predicts for rock songs. However, a lot of songs nowadays that are classified as pop have elements of rock in them. Indeed, if we look at some of the biggest pop artists around from today, we will see that they are also classified as rock artists. It is worth noting however, that our model may over predict because we did use regression imputation.**"
   ]
  },
  {
   "cell_type": "markdown",
   "metadata": {},
   "source": [
    "<img src=\"Pic1.png\" width=\"75%\">"
   ]
  },
  {
   "cell_type": "code",
   "execution_count": null,
   "metadata": {},
   "outputs": [],
   "source": []
  },
  {
   "cell_type": "markdown",
   "metadata": {},
   "source": [
    "<img src=\"Pic2.png\" width=\"75%\">"
   ]
  },
  {
   "cell_type": "code",
   "execution_count": null,
   "metadata": {},
   "outputs": [],
   "source": []
  },
  {
   "cell_type": "markdown",
   "metadata": {},
   "source": [
    "<img src=\"Pic3.png\" width=\"75%\">"
   ]
  },
  {
   "cell_type": "code",
   "execution_count": null,
   "metadata": {},
   "outputs": [],
   "source": []
  }
 ],
 "metadata": {
  "kernelspec": {
   "display_name": "Python 3",
   "language": "python",
   "name": "python3"
  },
  "language_info": {
   "codemirror_mode": {
    "name": "ipython",
    "version": 3
   },
   "file_extension": ".py",
   "mimetype": "text/x-python",
   "name": "python",
   "nbconvert_exporter": "python",
   "pygments_lexer": "ipython3",
   "version": "3.6.8"
  }
 },
 "nbformat": 4,
 "nbformat_minor": 2
}
