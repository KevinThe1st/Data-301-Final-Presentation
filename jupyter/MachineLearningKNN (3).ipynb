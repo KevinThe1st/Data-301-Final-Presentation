{
 "cells": [
  {
   "cell_type": "markdown",
   "metadata": {},
   "source": [
    "# Creating a K-Nearest Neighbors Machine Learning Classifier "
   ]
  },
  {
   "cell_type": "markdown",
   "metadata": {},
   "source": [
    "**Having created an SVC Classifier model (*see MachineLearningSVC.jpynb*), we next wanted to see if a K-Nearest Neighbors Classifier would perform better on predicting the genre of songs.**"
   ]
  },
  {
   "cell_type": "code",
   "execution_count": 1,
   "metadata": {},
   "outputs": [],
   "source": [
    "import pandas as pd\n",
    "import numpy as np\n",
    "import pickle\n",
    "from sklearn.svm import SVC\n",
    "from sklearn.preprocessing import StandardScaler\n",
    "from sklearn.pipeline import Pipeline\n",
    "from sklearn.model_selection import cross_val_score\n",
    "from sklearn.feature_extraction import DictVectorizer\n",
    "from sklearn.feature_extraction.text import TfidfVectorizer\n",
    "from sklearn.decomposition import PCA\n",
    "from sklearn.neighbors import KNeighborsClassifier\n",
    "def warn(*args, **kwargs):\n",
    "    pass\n",
    "import warnings\n",
    "warnings.warn = warn"
   ]
  },
  {
   "cell_type": "markdown",
   "metadata": {},
   "source": [
    "**As before, we obtained all of the features we were interested in that were gathered during the data collection phase, and merged them into one data frame called songs.**"
   ]
  },
  {
   "cell_type": "code",
   "execution_count": 2,
   "metadata": {},
   "outputs": [],
   "source": [
    "given = pickle.load(open(\"cleanedData.pkl\", \"rb\"))\n",
    "audio_analysis = pickle.load(open(\"audio_analysis_df.pkl\", \"rb\"))\n",
    "key_analysis = pickle.load(open(\"key_analysis_df.pkl\", \"rb\"))\n",
    "lengths_df = pickle.load(open(\"lengths_df.pkl\", \"rb\"))\n",
    "songs = pd.concat([given, audio_analysis, key_analysis, lengths_df], axis=1)"
   ]
  },
  {
   "cell_type": "markdown",
   "metadata": {},
   "source": [
    "**Below are all of the features we currently have access to in the songs dataframe:**"
   ]
  },
  {
   "cell_type": "code",
   "execution_count": 3,
   "metadata": {},
   "outputs": [
    {
     "data": {
      "text/plain": [
       "Index(['artist', 'genre', 'lyrics', 'num_syllables', 'pos', 'year',\n",
       "       'fog_index', 'flesch_index', 'num_words', 'num_lines', 'title',\n",
       "       'f_k_grade', 'difficult_words', 'num_dupes', 'neg', 'neu', 'compound',\n",
       "       'id', 'danceability', 'energy', 'key', 'loudness', 'mode',\n",
       "       'speechiness', 'acousticness', 'instrumentalness', 'liveness',\n",
       "       'valence', 'tempo', 'duration_ms', 'time_signature', 'uri',\n",
       "       'analysis_url', 'artist_with_features', 'year_bin', 'image', 'cluster',\n",
       "       'Gender', 'duration_avg', 'loudness_end_avg', 'loudness_max_avg',\n",
       "       'loudness_max_time_avg', 'loudness_start_avg', 'key_changes',\n",
       "       'num_sections', 'num_segments'],\n",
       "      dtype='object')"
      ]
     },
     "execution_count": 3,
     "metadata": {},
     "output_type": "execute_result"
    }
   ],
   "source": [
    "songs.columns"
   ]
  },
  {
   "cell_type": "markdown",
   "metadata": {},
   "source": [
    "**From this large list of features, we extracted the ones that we thought would be effective at predicting genre based on some experimentation, the previous SVC model's results, and our initial data exploration.**"
   ]
  },
  {
   "cell_type": "code",
   "execution_count": 4,
   "metadata": {},
   "outputs": [],
   "source": [
    "features = ['genre', 'lyrics', 'num_words', 'num_lines',\n",
    "       'num_dupes', 'danceability', 'energy', 'key', 'loudness', 'mode',\n",
    "       'speechiness', 'acousticness', 'instrumentalness', 'liveness',\n",
    "       'valence', 'tempo', 'duration_ms', 'time_signature', \n",
    "            'year_bin', 'duration_avg', 'loudness_end_avg', 'loudness_max_avg',\n",
    "       'loudness_max_time_avg', 'loudness_start_avg', 'key_changes',\n",
    "       'num_sections', 'num_segments']"
   ]
  },
  {
   "cell_type": "markdown",
   "metadata": {},
   "source": [
    "**Once again, we dropped the songs containing na values so as to avoid error and not use songs with incomplete feature sets.  Our x-training set was defined initially to consist of the features defined above, ignoring lyrics and genre, and our y-training set was defined to be the genre.  We used a DictVectorizer to create dummy variables of the categorical labels in the x-training data, scaled all the variables, and trained a K-Nearest_Neighbors model.  We used cross-validation and measured the f1 mean scores from each of these cross-validations.  The f1 scores of various classes were looked at, such as rock, jazz, and pop, with rock being displayed below.  Finally, we optimized the k-value with respect to the f1 scores (each class falling in a similar range), and decided to go with k=41 for a model that does not use a TF-IDF vectorizer.**"
   ]
  },
  {
   "cell_type": "code",
   "execution_count": 5,
   "metadata": {},
   "outputs": [],
   "source": [
    "data = songs[features].dropna()"
   ]
  },
  {
   "cell_type": "code",
   "execution_count": 6,
   "metadata": {},
   "outputs": [
    {
     "data": {
      "text/plain": [
       "6     0.556846\n",
       "1     0.563728\n",
       "16    0.595884\n",
       "11    0.603492\n",
       "26    0.603695\n",
       "36    0.610799\n",
       "21    0.612508\n",
       "31    0.616745\n",
       "46    0.627891\n",
       "41    0.629612\n",
       "dtype: float64"
      ]
     },
     "execution_count": 6,
     "metadata": {},
     "output_type": "execute_result"
    },
    {
     "data": {
      "image/png": "[encoded data removed]",
      "text/plain": [
       "<Figure size 432x288 with 1 Axes>"
      ]
     },
     "metadata": {
      "needs_background": "light"
     },
     "output_type": "display_data"
    }
   ],
   "source": [
    "%matplotlib inline\n",
    "\n",
    "\n",
    "X_train = data.drop([\"lyrics\",\"genre\"], axis=1)\n",
    "y_train = data[\"genre\"]\n",
    "X_dict = X_train.to_dict(orient=\"records\")  \n",
    "is_rock_train = (y_train==\"rock\")\n",
    "is_jazz_train = (y_train == \"jazz\")\n",
    "is_pop_train = (y_train == \"pop\")\n",
    "\n",
    "# Use the features that we would like\n",
    "df_features = data.drop([\"lyrics\",\"genre\"], axis=1).reset_index().drop(\"index\", axis=1)\n",
    "    \n",
    "\n",
    "  \n",
    "    \n",
    "def get_f1(k):\n",
    "    #print(str(k))\n",
    "    model = KNeighborsClassifier(n_neighbors=k)\n",
    "    scaler = StandardScaler()\n",
    "    vec = DictVectorizer(sparse=False)\n",
    "    pipeline = Pipeline([(\"vec\", vec), (\"scaler\", scaler), (\"model\", model)])\n",
    "    f1 = cross_val_score(pipeline, X_dict, is_rock_train, cv=10, scoring=\"f1\").mean()\n",
    "    return f1\n",
    "    \n",
    "ks = pd.Series(range(1, 51, 5))\n",
    "ks.index = range(1, 51, 5)\n",
    "test_errs = ks.apply(get_f1)\n",
    "\n",
    "test_errs.plot.line()\n",
    "test_errs.sort_values()"
   ]
  },
  {
   "cell_type": "markdown",
   "metadata": {},
   "source": [
    "**Next, as we did with the SVC model, we performed a K-Nearest Neighbors Classifier model again, this time taking into account word frequencies with respect to TF-IDF.  (A Principle Component Analysis was also attempted as with the SVC model, but unlike the SVC, it performed worse in this model than without).  An optimal k-value was found once again with respect to various f1 scores, looking once again at several classes.  The code segments and graphs for optimizing k with respect to the f1 in jazz and rock are displayed below.**"
   ]
  },
  {
   "cell_type": "code",
   "execution_count": 7,
   "metadata": {},
   "outputs": [
    {
     "data": {
      "text/plain": [
       "36    0.000000\n",
       "41    0.000000\n",
       "46    0.000000\n",
       "31    0.016667\n",
       "16    0.021739\n",
       "21    0.028571\n",
       "26    0.036364\n",
       "6     0.037607\n",
       "11    0.042222\n",
       "1     0.220700\n",
       "dtype: float64"
      ]
     },
     "execution_count": 7,
     "metadata": {},
     "output_type": "execute_result"
    },
    {
     "data": {
      "image/png": "[encoded data removed]",
      "text/plain": [
       "<Figure size 432x288 with 1 Axes>"
      ]
     },
     "metadata": {
      "needs_background": "light"
     },
     "output_type": "display_data"
    }
   ],
   "source": [
    "lyrics = data[\"lyrics\"].replace(\"\\n\", \" \")\n",
    "vector = TfidfVectorizer(norm=None, min_df = 0.01, stop_words={\"english\"}, lowercase=True) # Do not normalize.\n",
    "vector.fit(lyrics) # This determines the vocabulary.\n",
    "tf_idf_sparse = vector.transform(lyrics)\n",
    "lyrics = pd.DataFrame(tf_idf_sparse.todense())\n",
    "lyrics.columns = vector.vocabulary_\n",
    "\n",
    "X_train = data.drop([\"lyrics\",\"genre\"], axis=1)\n",
    "y_train = data[\"genre\"]\n",
    "X_dict = X_train.to_dict(orient=\"records\")  \n",
    "is_jazz_train = (y_train==\"jazz\")\n",
    "\n",
    "    \n",
    "# Create X_train and y_train\n",
    "X_train = pd.concat([df_features, lyrics], axis = 1, sort=False)\n",
    "y_train = data[\"genre\"]\n",
    "    \n",
    "# Vectorize the categorical variables\n",
    "X_dict = X_train.to_dict(orient=\"records\")\n",
    "vec = DictVectorizer(sparse=False)\n",
    "scaler = StandardScaler()\n",
    "  \n",
    "    \n",
    "def get_f1(k):\n",
    "    #print(str(k))\n",
    "    model = KNeighborsClassifier(n_neighbors=k)\n",
    "    scaler = StandardScaler()\n",
    "    vec = DictVectorizer(sparse=False)\n",
    "    pipeline = Pipeline([(\"vec\", vec), (\"scaler\", scaler), (\"model\", model)])\n",
    "    f1 = cross_val_score(pipeline, X_dict, is_jazz_train, cv=10, scoring=\"f1\").mean()\n",
    "    #print(\"here\")\n",
    "    return f1\n",
    "    \n",
    "ks = pd.Series(range(1, 51, 5))\n",
    "ks.index = range(1, 51, 5)\n",
    "test_errs = ks.apply(get_f1)\n",
    "\n",
    "test_errs.plot.line()\n",
    "test_errs.sort_values()"
   ]
  },
  {
   "cell_type": "markdown",
   "metadata": {},
   "source": [
    "**The graph above predicted k=1 to be the optimal k-value with regards to f1 for jazz.  As we know, this is not a truly good value for k.  Other values that predicted the highest f1 scores were k=11, 6 and 26.  While these f1 scores are somewhat poor, it is likely due to the fact that there are fewer jazz songs in our data set of top songs over the decades.**"
   ]
  },
  {
   "cell_type": "code",
   "execution_count": 15,
   "metadata": {},
   "outputs": [
    {
     "data": {
      "text/plain": [
       "6     0.359580\n",
       "11    0.491347\n",
       "16    0.528065\n",
       "1     0.531255\n",
       "21    0.585770\n",
       "26    0.587730\n",
       "46    0.598505\n",
       "31    0.602621\n",
       "41    0.603307\n",
       "36    0.604901\n",
       "dtype: float64"
      ]
     },
     "execution_count": 15,
     "metadata": {},
     "output_type": "execute_result"
    },
    {
     "data": {
      "image/png": "[encoded data removed]",
      "text/plain": [
       "<Figure size 432x288 with 1 Axes>"
      ]
     },
     "metadata": {
      "needs_background": "light"
     },
     "output_type": "display_data"
    }
   ],
   "source": [
    "lyrics = data[\"lyrics\"].replace(\"\\n\", \" \")\n",
    "vector = TfidfVectorizer(norm=None, min_df = 0.01, stop_words={\"english\"}, lowercase=True) # Do not normalize.\n",
    "vector.fit(lyrics) # This determines the vocabulary.\n",
    "tf_idf_sparse = vector.transform(lyrics)\n",
    "lyrics = pd.DataFrame(tf_idf_sparse.todense())\n",
    "lyrics.columns = vector.vocabulary_\n",
    "\n",
    "X_train = data.drop([\"lyrics\",\"genre\"], axis=1)\n",
    "y_train = data[\"genre\"]\n",
    "X_dict = X_train.to_dict(orient=\"records\")  \n",
    "is_rock_train = (y_train==\"rock\")\n",
    "\n",
    "    \n",
    "# Create X_train and y_train\n",
    "X_train = pd.concat([df_features, lyrics], axis = 1, sort=False)\n",
    "y_train = data[\"genre\"]\n",
    "    \n",
    "# Vectorize the categorical variables\n",
    "X_dict = X_train.to_dict(orient=\"records\")\n",
    "vec = DictVectorizer(sparse=False)\n",
    "scaler = StandardScaler()\n",
    "\n",
    "  \n",
    "    \n",
    "def get_accuracy(k):\n",
    "    #print(str(k))\n",
    "    model = KNeighborsClassifier(n_neighbors=k)\n",
    "    scaler = StandardScaler()\n",
    "    vec = DictVectorizer(sparse=False)\n",
    "    pipeline = Pipeline([(\"vec\", vec), (\"scaler\", scaler), (\"model\", model)])\n",
    "    accuracy = cross_val_score(pipeline, X_dict, is_rock_train, cv=10, scoring=\"f1\").mean()\n",
    "    return accuracy\n",
    "    \n",
    "ks = pd.Series(range(1, 51, 5))\n",
    "ks.index = range(1, 51, 5)\n",
    "test_errs = ks.apply(get_accuracy)\n",
    "\n",
    "test_errs.plot.line()\n",
    "test_errs.sort_values()"
   ]
  },
  {
   "cell_type": "markdown",
   "metadata": {},
   "source": [
    "**In contrast, looking at the f1 scores of rock as our class with respect to optimizing k, these measures performed much better overall.  This is likely due to there being a far greater number of rock songs in our data set.  We found an optimal value of k for a K-Nearest-Neighbors Classifier considering TF-IDF to be 36 in this case.**"
   ]
  }
 ],
 "metadata": {
  "kernelspec": {
   "display_name": "Python 3",
   "language": "python",
   "name": "python3"
  },
  "language_info": {
   "codemirror_mode": {
    "name": "ipython",
    "version": 3
   },
   "file_extension": ".py",
   "mimetype": "text/x-python",
   "name": "python",
   "nbconvert_exporter": "python",
   "pygments_lexer": "ipython3",
   "version": "3.6.8"
  }
 },
 "nbformat": 4,
 "nbformat_minor": 2
}
