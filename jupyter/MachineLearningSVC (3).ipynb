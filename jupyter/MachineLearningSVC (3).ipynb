{
 "cells": [
  {
   "cell_type": "markdown",
   "metadata": {},
   "source": [
    "# Creating an SVC Machine Learning Classifier"
   ]
  },
  {
   "cell_type": "markdown",
   "metadata": {},
   "source": [
    "**Here, me make an SVC (Support Vector Classification) model to predict a song's genre based on various features.**"
   ]
  },
  {
   "cell_type": "code",
   "execution_count": 1,
   "metadata": {},
   "outputs": [],
   "source": [
    "import pandas as pd\n",
    "import numpy as np\n",
    "import pickle\n",
    "from sklearn.svm import SVC\n",
    "from sklearn.preprocessing import StandardScaler\n",
    "from sklearn.pipeline import Pipeline\n",
    "from sklearn.model_selection import cross_val_score\n",
    "from sklearn.feature_extraction import DictVectorizer\n",
    "from sklearn.feature_extraction.text import TfidfVectorizer\n",
    "from sklearn.decomposition import PCA\n",
    "def warn(*args, **kwargs):\n",
    "    pass\n",
    "import warnings\n",
    "warnings.warn = warn"
   ]
  },
  {
   "cell_type": "markdown",
   "metadata": {},
   "source": [
    "**To begin, we combined the features that were obtained from our data collection phase, merging them all into a single data frame (songs).**"
   ]
  },
  {
   "cell_type": "code",
   "execution_count": 2,
   "metadata": {},
   "outputs": [],
   "source": [
    "given = pickle.load(open(\"cleanedData.pkl\", \"rb\"))\n",
    "audio_analysis = pickle.load(open(\"audio_analysis_df.pkl\", \"rb\"))\n",
    "key_analysis = pickle.load(open(\"key_analysis_df.pkl\", \"rb\"))\n",
    "lengths_df = pickle.load(open(\"lengths_df.pkl\", \"rb\"))\n",
    "songs = pd.concat([given, audio_analysis, key_analysis, lengths_df], axis=1)"
   ]
  },
  {
   "cell_type": "markdown",
   "metadata": {},
   "source": [
    "**Below, we can see all of the features available to us from the concatination of the various original data frames.**"
   ]
  },
  {
   "cell_type": "code",
   "execution_count": 3,
   "metadata": {},
   "outputs": [
    {
     "data": {
      "text/plain": [
       "Index(['artist', 'genre', 'lyrics', 'num_syllables', 'pos', 'year',\n",
       "       'fog_index', 'flesch_index', 'num_words', 'num_lines', 'title',\n",
       "       'f_k_grade', 'difficult_words', 'num_dupes', 'neg', 'neu', 'compound',\n",
       "       'id', 'danceability', 'energy', 'key', 'loudness', 'mode',\n",
       "       'speechiness', 'acousticness', 'instrumentalness', 'liveness',\n",
       "       'valence', 'tempo', 'duration_ms', 'time_signature', 'uri',\n",
       "       'analysis_url', 'artist_with_features', 'year_bin', 'image', 'cluster',\n",
       "       'Gender', 'duration_avg', 'loudness_end_avg', 'loudness_max_avg',\n",
       "       'loudness_max_time_avg', 'loudness_start_avg', 'key_changes',\n",
       "       'num_sections', 'num_segments'],\n",
       "      dtype='object')"
      ]
     },
     "execution_count": 3,
     "metadata": {},
     "output_type": "execute_result"
    }
   ],
   "source": [
    "songs.columns"
   ]
  },
  {
   "cell_type": "markdown",
   "metadata": {},
   "source": [
    "**Here, we select a group of features we believe would be good predictors of genere in a classifier.  Various combinations of features were experimented with to obtain the list below, as well as insight gained from the data visualization steps conducted previously.  We also obtain the data we will use as the y-training feature (genre).**"
   ]
  },
  {
   "cell_type": "code",
   "execution_count": 4,
   "metadata": {},
   "outputs": [],
   "source": [
    "features = ['genre', 'lyrics', 'num_words', 'num_lines',\n",
    "       'num_dupes', 'danceability', 'energy', 'loudness', 'mode',\n",
    "       'speechiness', 'acousticness', 'instrumentalness', 'liveness',\n",
    "       'valence', 'tempo', 'duration_ms', 'time_signature', \n",
    "            'year_bin', 'duration_avg', 'loudness_end_avg', 'loudness_max_avg',\n",
    "       'loudness_max_time_avg', 'loudness_start_avg', 'key_changes',\n",
    "       'num_sections', 'num_segments']"
   ]
  },
  {
   "cell_type": "markdown",
   "metadata": {},
   "source": [
    "**Next, we generated a new data frame that is a subset of the songs dataframe, extracting our features of interest, and the y-training data (genres).  We also drop na values so as to avoid error and not use songs with incomplete feature sets.**"
   ]
  },
  {
   "cell_type": "code",
   "execution_count": 5,
   "metadata": {},
   "outputs": [],
   "source": [
    "data = songs[features].dropna()"
   ]
  },
  {
   "cell_type": "markdown",
   "metadata": {},
   "source": [
    "**We created the x-training set and y-training set, currently ignoring lyrics from the x-training set.**"
   ]
  },
  {
   "cell_type": "code",
   "execution_count": 6,
   "metadata": {},
   "outputs": [],
   "source": [
    "X_train = data.drop([\"lyrics\",\"genre\"], axis=1)\n",
    "y_train = data[\"genre\"]"
   ]
  },
  {
   "cell_type": "markdown",
   "metadata": {},
   "source": [
    "**Now with the x-training set and y-training set, we made our first SVC model that creates dummy variables from the categorical labels, scales all variables, and checks the effectiveness of this model with cross validation.  This is displayed by finding the overall accuracy of the model with respect to all classes, as well as the f1 score, precision and recall for the rock genre class.**"
   ]
  },
  {
   "cell_type": "code",
   "execution_count": 7,
   "metadata": {},
   "outputs": [],
   "source": [
    "X_dict = X_train.to_dict(orient=\"records\")\n",
    "vec = DictVectorizer(sparse=False)\n",
    "scaler = StandardScaler()\n",
    "\n",
    "model = SVC()\n",
    "    \n",
    "pipeline = Pipeline([(\"vectorizer\", vec), (\"scaler\", scaler), (\"model\", model)])\n",
    "    \n",
    "is_rock_train = (y_train==\"rock\")\n",
    "\n",
    "accuracy = cross_val_score(pipeline,\n",
    "                        X_dict,\n",
    "                        y_train,\n",
    "                        cv=10, scoring=\"accuracy\").mean()\n",
    "\n",
    "f1 = cross_val_score(pipeline,\n",
    "                        X_dict,\n",
    "                        is_rock_train,\n",
    "                        cv=10, scoring=\"f1\").mean()\n",
    "\n",
    "precision = cross_val_score(pipeline,\n",
    "                        X_dict,\n",
    "                        is_rock_train,\n",
    "                        cv=10, scoring=\"precision\").mean()\n",
    "recall = cross_val_score(pipeline,\n",
    "                        X_dict,\n",
    "                        is_rock_train,\n",
    "                        cv=10, scoring=\"recall\").mean()"
   ]
  },
  {
   "cell_type": "code",
   "execution_count": 8,
   "metadata": {},
   "outputs": [
    {
     "data": {
      "text/plain": [
       "0.55941842999867952"
      ]
     },
     "execution_count": 8,
     "metadata": {},
     "output_type": "execute_result"
    }
   ],
   "source": [
    "accuracy"
   ]
  },
  {
   "cell_type": "code",
   "execution_count": 9,
   "metadata": {},
   "outputs": [
    {
     "data": {
      "text/plain": [
       "0.61481478937643697"
      ]
     },
     "execution_count": 9,
     "metadata": {},
     "output_type": "execute_result"
    }
   ],
   "source": [
    "f1"
   ]
  },
  {
   "cell_type": "code",
   "execution_count": 10,
   "metadata": {},
   "outputs": [
    {
     "data": {
      "text/plain": [
       "0.65294164477350536"
      ]
     },
     "execution_count": 10,
     "metadata": {},
     "output_type": "execute_result"
    }
   ],
   "source": [
    "recall"
   ]
  },
  {
   "cell_type": "code",
   "execution_count": 11,
   "metadata": {},
   "outputs": [
    {
     "data": {
      "text/plain": [
       "0.69260525361804359"
      ]
     },
     "execution_count": 11,
     "metadata": {},
     "output_type": "execute_result"
    }
   ],
   "source": [
    "precision"
   ]
  },
  {
   "cell_type": "code",
   "execution_count": null,
   "metadata": {},
   "outputs": [],
   "source": []
  },
  {
   "cell_type": "markdown",
   "metadata": {},
   "source": [
    "**This model was fairly effective, however we wanted to find out if we could generate an even better one.  Would using lyrics in the prediction imporve the various measures of accuracy?  Furthermore would using PCA (Principle Component Analysis), another form of measurement which we researchd, help our model?  To answer this question, we created another Support Vector Classification model that performed a TF-IDF analysis on the words in all songs and used this as another feature, as well as performed a PCA (with 2 components) on the data.**"
   ]
  },
  {
   "cell_type": "markdown",
   "metadata": {},
   "source": [
    "**First we wanted to see how using the `max_df` parameter in the`TfidfVectorizer` would effect our predictions.**"
   ]
  },
  {
   "cell_type": "code",
   "execution_count": 12,
   "metadata": {},
   "outputs": [],
   "source": [
    "lyrics = data[\"lyrics\"].replace(\"\\n\", \" \")\n",
    "vector = TfidfVectorizer(norm=None, max_df = 1, stop_words={\"english\"}, lowercase=True) # Do not normalize.\n",
    "vector.fit(lyrics) # This determines the vocabulary.\n",
    "tf_idf_sparse = vector.transform(lyrics)\n",
    "lyrics = pd.DataFrame(tf_idf_sparse.todense())\n",
    "lyrics.columns = vector.vocabulary_\n",
    "df_features = data.drop([\"lyrics\",\"genre\"], axis=1).reset_index().drop(\"index\", axis=1)\n",
    "\n",
    "X_train_with_lyrics = pd.concat([df_features, lyrics], axis = 1, sort=False)\n",
    "y_train = data[\"genre\"]"
   ]
  },
  {
   "cell_type": "markdown",
   "metadata": {},
   "source": [
    "**The words vectorized from the TF-IDF vectorizer.**"
   ]
  },
  {
   "cell_type": "code",
   "execution_count": 13,
   "metadata": {},
   "outputs": [
    {
     "data": {
      "text/html": [
       "<div>\n",
       "<style scoped>\n",
       "    .dataframe tbody tr th:only-of-type {\n",
       "        vertical-align: middle;\n",
       "    }\n",
       "\n",
       "    .dataframe tbody tr th {\n",
       "        vertical-align: top;\n",
       "    }\n",
       "\n",
       "    .dataframe thead th {\n",
       "        text-align: right;\n",
       "    }\n",
       "</style>\n",
       "<table border=\"1\" class=\"dataframe\">\n",
       "  <thead>\n",
       "    <tr style=\"text-align: right;\">\n",
       "      <th></th>\n",
       "      <th>blamed</th>\n",
       "      <th>strangeness</th>\n",
       "      <th>gypsies</th>\n",
       "      <th>owens</th>\n",
       "      <th>gallop</th>\n",
       "      <th>chester</th>\n",
       "      <th>conn</th>\n",
       "      <th>deee</th>\n",
       "      <th>sirree</th>\n",
       "      <th>ramble</th>\n",
       "      <th>...</th>\n",
       "      <th>founded</th>\n",
       "      <th>oppression</th>\n",
       "      <th>acceptance</th>\n",
       "      <th>ignores</th>\n",
       "      <th>synonymous</th>\n",
       "      <th>anointed</th>\n",
       "      <th>voiceless</th>\n",
       "      <th>uncles</th>\n",
       "      <th>plagued</th>\n",
       "      <th>prediction</th>\n",
       "    </tr>\n",
       "  </thead>\n",
       "  <tbody>\n",
       "    <tr>\n",
       "      <th>0</th>\n",
       "      <td>0.0</td>\n",
       "      <td>0.0</td>\n",
       "      <td>0.0</td>\n",
       "      <td>0.0</td>\n",
       "      <td>0.0</td>\n",
       "      <td>0.0</td>\n",
       "      <td>0.0</td>\n",
       "      <td>0.0</td>\n",
       "      <td>0.0</td>\n",
       "      <td>0.0</td>\n",
       "      <td>...</td>\n",
       "      <td>0.0</td>\n",
       "      <td>0.0</td>\n",
       "      <td>0.0</td>\n",
       "      <td>0.0</td>\n",
       "      <td>0.0</td>\n",
       "      <td>0.0</td>\n",
       "      <td>0.0</td>\n",
       "      <td>0.0</td>\n",
       "      <td>0.0</td>\n",
       "      <td>0.0</td>\n",
       "    </tr>\n",
       "    <tr>\n",
       "      <th>1</th>\n",
       "      <td>0.0</td>\n",
       "      <td>0.0</td>\n",
       "      <td>0.0</td>\n",
       "      <td>0.0</td>\n",
       "      <td>0.0</td>\n",
       "      <td>0.0</td>\n",
       "      <td>0.0</td>\n",
       "      <td>0.0</td>\n",
       "      <td>0.0</td>\n",
       "      <td>0.0</td>\n",
       "      <td>...</td>\n",
       "      <td>0.0</td>\n",
       "      <td>0.0</td>\n",
       "      <td>0.0</td>\n",
       "      <td>0.0</td>\n",
       "      <td>0.0</td>\n",
       "      <td>0.0</td>\n",
       "      <td>0.0</td>\n",
       "      <td>0.0</td>\n",
       "      <td>0.0</td>\n",
       "      <td>0.0</td>\n",
       "    </tr>\n",
       "    <tr>\n",
       "      <th>2</th>\n",
       "      <td>0.0</td>\n",
       "      <td>0.0</td>\n",
       "      <td>0.0</td>\n",
       "      <td>0.0</td>\n",
       "      <td>0.0</td>\n",
       "      <td>0.0</td>\n",
       "      <td>0.0</td>\n",
       "      <td>0.0</td>\n",
       "      <td>0.0</td>\n",
       "      <td>0.0</td>\n",
       "      <td>...</td>\n",
       "      <td>0.0</td>\n",
       "      <td>0.0</td>\n",
       "      <td>0.0</td>\n",
       "      <td>0.0</td>\n",
       "      <td>0.0</td>\n",
       "      <td>0.0</td>\n",
       "      <td>0.0</td>\n",
       "      <td>0.0</td>\n",
       "      <td>0.0</td>\n",
       "      <td>0.0</td>\n",
       "    </tr>\n",
       "    <tr>\n",
       "      <th>3</th>\n",
       "      <td>0.0</td>\n",
       "      <td>0.0</td>\n",
       "      <td>0.0</td>\n",
       "      <td>0.0</td>\n",
       "      <td>0.0</td>\n",
       "      <td>0.0</td>\n",
       "      <td>0.0</td>\n",
       "      <td>0.0</td>\n",
       "      <td>0.0</td>\n",
       "      <td>0.0</td>\n",
       "      <td>...</td>\n",
       "      <td>0.0</td>\n",
       "      <td>0.0</td>\n",
       "      <td>0.0</td>\n",
       "      <td>0.0</td>\n",
       "      <td>0.0</td>\n",
       "      <td>0.0</td>\n",
       "      <td>0.0</td>\n",
       "      <td>0.0</td>\n",
       "      <td>0.0</td>\n",
       "      <td>0.0</td>\n",
       "    </tr>\n",
       "    <tr>\n",
       "      <th>4</th>\n",
       "      <td>0.0</td>\n",
       "      <td>0.0</td>\n",
       "      <td>0.0</td>\n",
       "      <td>0.0</td>\n",
       "      <td>0.0</td>\n",
       "      <td>0.0</td>\n",
       "      <td>0.0</td>\n",
       "      <td>0.0</td>\n",
       "      <td>0.0</td>\n",
       "      <td>0.0</td>\n",
       "      <td>...</td>\n",
       "      <td>0.0</td>\n",
       "      <td>0.0</td>\n",
       "      <td>0.0</td>\n",
       "      <td>0.0</td>\n",
       "      <td>0.0</td>\n",
       "      <td>0.0</td>\n",
       "      <td>0.0</td>\n",
       "      <td>0.0</td>\n",
       "      <td>0.0</td>\n",
       "      <td>0.0</td>\n",
       "    </tr>\n",
       "  </tbody>\n",
       "</table>\n",
       "<p>5 rows × 8340 columns</p>\n",
       "</div>"
      ],
      "text/plain": [
       "   blamed  strangeness  gypsies  owens  gallop  chester  conn  deee  sirree  \\\n",
       "0     0.0          0.0      0.0    0.0     0.0      0.0   0.0   0.0     0.0   \n",
       "1     0.0          0.0      0.0    0.0     0.0      0.0   0.0   0.0     0.0   \n",
       "2     0.0          0.0      0.0    0.0     0.0      0.0   0.0   0.0     0.0   \n",
       "3     0.0          0.0      0.0    0.0     0.0      0.0   0.0   0.0     0.0   \n",
       "4     0.0          0.0      0.0    0.0     0.0      0.0   0.0   0.0     0.0   \n",
       "\n",
       "   ramble     ...      founded  oppression  acceptance  ignores  synonymous  \\\n",
       "0     0.0     ...          0.0         0.0         0.0      0.0         0.0   \n",
       "1     0.0     ...          0.0         0.0         0.0      0.0         0.0   \n",
       "2     0.0     ...          0.0         0.0         0.0      0.0         0.0   \n",
       "3     0.0     ...          0.0         0.0         0.0      0.0         0.0   \n",
       "4     0.0     ...          0.0         0.0         0.0      0.0         0.0   \n",
       "\n",
       "   anointed  voiceless  uncles  plagued  prediction  \n",
       "0       0.0        0.0     0.0      0.0         0.0  \n",
       "1       0.0        0.0     0.0      0.0         0.0  \n",
       "2       0.0        0.0     0.0      0.0         0.0  \n",
       "3       0.0        0.0     0.0      0.0         0.0  \n",
       "4       0.0        0.0     0.0      0.0         0.0  \n",
       "\n",
       "[5 rows x 8340 columns]"
      ]
     },
     "execution_count": 13,
     "metadata": {},
     "output_type": "execute_result"
    }
   ],
   "source": [
    "lyrics.head()"
   ]
  },
  {
   "cell_type": "code",
   "execution_count": 14,
   "metadata": {},
   "outputs": [],
   "source": [
    "X_dict = X_train_with_lyrics.to_dict(orient=\"records\")\n",
    "vec = DictVectorizer(sparse=False)\n",
    "vec.fit(X_dict)\n",
    "X_dict = vec.transform(X_dict)\n",
    "scaler = StandardScaler()\n",
    "pca = PCA(n_components=2)\n",
    "model = SVC()\n",
    "    \n",
    "pipeline = Pipeline([(\"scaler\", scaler), (\"pca\", pca), (\"model\", model)])\n",
    "    \n",
    "is_rock_train = (y_train==\"rock\")\n",
    "    \n",
    "f1 = cross_val_score(pipeline,\n",
    "                        X_dict,\n",
    "                        is_rock_train,\n",
    "                        cv=10, scoring=\"f1\").mean()"
   ]
  },
  {
   "cell_type": "code",
   "execution_count": 15,
   "metadata": {},
   "outputs": [
    {
     "data": {
      "text/plain": [
       "0.046524064171122995"
      ]
     },
     "execution_count": 15,
     "metadata": {},
     "output_type": "execute_result"
    }
   ],
   "source": [
    "f1"
   ]
  },
  {
   "cell_type": "markdown",
   "metadata": {},
   "source": [
    "**As we can see, using `max_df` made our prediction really bad.**"
   ]
  },
  {
   "cell_type": "markdown",
   "metadata": {},
   "source": [
    "**Finally, we decided to optimize the `min_df` parameter passed into the TF-IDF vectorizer.  This sets a lower bound to the words that are chosen in the TF-IDF vectorizer (very common words chosen too often are not included )**"
   ]
  },
  {
   "cell_type": "code",
   "execution_count": 16,
   "metadata": {},
   "outputs": [],
   "source": [
    "def optimal_m(m):\n",
    "    # Quantify the lyrics\n",
    "    lyrics = data[\"lyrics\"].replace(\"\\n\", \" \")\n",
    "    vector = TfidfVectorizer(norm=None, min_df = m, stop_words={\"english\"}, lowercase=True) # Do not normalize.\n",
    "    vector.fit(lyrics) # This determines the vocabulary.\n",
    "    tf_idf_sparse = vector.transform(lyrics)\n",
    "    lyrics = pd.DataFrame(tf_idf_sparse.todense())\n",
    "    lyrics.columns = vector.vocabulary_\n",
    "    \n",
    "    # Use the features that we would like\n",
    "    df_features = data.drop([\"lyrics\",\"genre\"], axis=1).reset_index().drop(\"index\", axis=1)\n",
    "    \n",
    "    # Create X_train and y_train\n",
    "    X_train = pd.concat([df_features, lyrics], axis = 1, sort=False)\n",
    "    y_train = data[\"genre\"]\n",
    "    \n",
    "    # Vectorize the categorical variables\n",
    "    X_dict = X_train.to_dict(orient=\"records\")\n",
    "    vec = DictVectorizer(sparse=False)\n",
    "    # Create Scaler, PCA, and SVC objects\n",
    "    scaler = StandardScaler()\n",
    "    pca = PCA(n_components=6)\n",
    "    model = SVC()\n",
    "  \n",
    "    # Construct the pipeline\n",
    "    pipeline = Pipeline([(\"vectorizer\", vec), (\"scaler\", scaler),(\"pca\", pca), (\"model\", model)])\n",
    "    is_rock_train = (y_train==\"rock\")\n",
    "    # Run 10 fold cross validation to calculate the f1 score\n",
    "    f1 = cross_val_score(pipeline,\n",
    "                        X_dict,\n",
    "                        is_rock_train,\n",
    "                        cv=10, scoring=\"f1\").mean()\n",
    "    print(m, \" : \", f1)\n",
    "    return(f1)\n",
    "    #Using TfidifVectorizer because it ranks non common words as higher\n",
    "    "
   ]
  },
  {
   "cell_type": "code",
   "execution_count": 17,
   "metadata": {},
   "outputs": [],
   "source": [
    "ms = pd.Series(list([0.01, 0.02, 0.03,0.1, 0.2]))\n",
    "ms.index=[0.01, 0.02, 0.03,0.1, 0.2]\n"
   ]
  },
  {
   "cell_type": "code",
   "execution_count": 18,
   "metadata": {},
   "outputs": [
    {
     "name": "stdout",
     "output_type": "stream",
     "text": [
      "0.01  :  0.636897024509\n",
      "0.02  :  0.640655928588\n",
      "0.03  :  0.633785902425\n",
      "0.1  :  0.622529403278\n",
      "0.2  :  0.635098755094\n"
     ]
    }
   ],
   "source": [
    "test = ms.apply(optimal_m)"
   ]
  },
  {
   "cell_type": "code",
   "execution_count": 19,
   "metadata": {},
   "outputs": [
    {
     "data": {
      "text/plain": [
       "<matplotlib.axes._subplots.AxesSubplot at 0x7fe8288fac88>"
      ]
     },
     "execution_count": 19,
     "metadata": {},
     "output_type": "execute_result"
    },
    {
     "data": {
      "image/png": "[encoded data removed]",
      "text/plain": [
       "<Figure size 432x288 with 1 Axes>"
      ]
     },
     "metadata": {
      "needs_background": "light"
     },
     "output_type": "display_data"
    }
   ],
   "source": [
    "%matplotlib inline\n",
    "test.plot.line()"
   ]
  },
  {
   "cell_type": "code",
   "execution_count": 20,
   "metadata": {},
   "outputs": [
    {
     "data": {
      "text/plain": [
       "0.02    0.640656\n",
       "0.01    0.636897\n",
       "0.20    0.635099\n",
       "0.03    0.633786\n",
       "0.10    0.622529\n",
       "dtype: float64"
      ]
     },
     "execution_count": 20,
     "metadata": {},
     "output_type": "execute_result"
    }
   ],
   "source": [
    "test.sort_values(ascending=False)"
   ]
  },
  {
   "cell_type": "markdown",
   "metadata": {},
   "source": [
    "**For the values that we have tested, the best value for m was 0.02.**"
   ]
  }
 ],
 "metadata": {
  "kernelspec": {
   "display_name": "Python 3",
   "language": "python",
   "name": "python3"
  },
  "language_info": {
   "codemirror_mode": {
    "name": "ipython",
    "version": 3
   },
   "file_extension": ".py",
   "mimetype": "text/x-python",
   "name": "python",
   "nbconvert_exporter": "python",
   "pygments_lexer": "ipython3",
   "version": "3.6.8"
  }
 },
 "nbformat": 4,
 "nbformat_minor": 2
}
