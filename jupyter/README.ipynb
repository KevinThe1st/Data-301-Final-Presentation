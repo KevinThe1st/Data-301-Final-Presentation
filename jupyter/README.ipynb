{
 "cells": [
  {
   "cell_type": "markdown",
   "metadata": {},
   "source": [
    "# README\n",
    "\n",
    "**Please look at the .ipynb files in the following order:**\n",
    "\n",
    "#### DATA COLLECTION AND CLEANING ####\n",
    "\n",
    "(1) Cleaning\n",
    "\n",
    "(2) FeatureDevelopment\n",
    "\n",
    "**Extracting billboard top 100 data**\n",
    "\n",
    "(3) GatheringData100\n",
    "\n",
    "(4) lyricScrapping\n",
    "\n",
    "(5) Duplicates\n",
    "\n",
    "(6) Numbers\n",
    "\n",
    "#### Analysis ####\n",
    "\n",
    "(7) DataExploration\n",
    "\n",
    "#### Machine Learning ####\n",
    "\n",
    "(8) MachineLearningSVC\n",
    "\n",
    "(9) MachineLearningKNN\n",
    "\n",
    "(10) Ensembler\n",
    "\n",
    "#### Presentation ####\n",
    "\n",
    "(11) Presentation\n"
   ]
  },
  {
   "cell_type": "code",
   "execution_count": null,
   "metadata": {},
   "outputs": [],
   "source": []
  }
 ],
 "metadata": {
  "kernelspec": {
   "display_name": "Python 3",
   "language": "python",
   "name": "python3"
  },
  "language_info": {
   "codemirror_mode": {
    "name": "ipython",
    "version": 3
   },
   "file_extension": ".py",
   "mimetype": "text/x-python",
   "name": "python",
   "nbconvert_exporter": "python",
   "pygments_lexer": "ipython3",
   "version": "3.6.8"
  }
 },
 "nbformat": 4,
 "nbformat_minor": 2
}
